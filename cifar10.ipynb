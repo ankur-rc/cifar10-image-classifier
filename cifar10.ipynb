{
  "nbformat": 4,
  "nbformat_minor": 0,
  "metadata": {
    "colab": {
      "name": "cifar10.ipynb",
      "version": "0.3.2",
      "provenance": [],
      "collapsed_sections": []
    },
    "kernelspec": {
      "name": "python2",
      "display_name": "Python 2"
    },
    "accelerator": "GPU"
  },
  "cells": [
    {
      "cell_type": "markdown",
      "metadata": {
        "id": "view-in-github",
        "colab_type": "text"
      },
      "source": [
        "[View in Colaboratory](https://colab.research.google.com/github/nautilusPrime/cifar10-image-classifier/blob/master/cifar10.ipynb)"
      ]
    },
    {
      "metadata": {
        "id": "oue7VXqkI3Ia",
        "colab_type": "code",
        "colab": {
          "base_uri": "https://localhost:8080/",
          "height": 35
        },
        "outputId": "171e0ed7-6de1-4719-ea12-bbd86d992593"
      },
      "cell_type": "code",
      "source": [
        "from __future__ import print_function\n",
        "import keras\n",
        "from keras.datasets import cifar10\n",
        "from keras.preprocessing.image import ImageDataGenerator\n",
        "from keras.models import Sequential\n",
        "from keras.layers import Dense, Dropout, Activation, Flatten, BatchNormalization\n",
        "from keras.layers import Conv2D, MaxPooling2D\n",
        "from keras.callbacks import EarlyStopping\n",
        "from keras.regularizers import l2\n",
        "import os"
      ],
      "execution_count": 1,
      "outputs": [
        {
          "output_type": "stream",
          "text": [
            "Using TensorFlow backend.\n"
          ],
          "name": "stderr"
        }
      ]
    },
    {
      "metadata": {
        "id": "sBmT5avYJLj2",
        "colab_type": "code",
        "colab": {
          "base_uri": "https://localhost:8080/",
          "height": 17
        },
        "outputId": "041fc3d6-aabe-4a15-e7af-91d342474f67"
      },
      "cell_type": "code",
      "source": [
        "batch_size = 32\n",
        "num_classes = 10\n",
        "epochs = 100\n",
        "save_dir = os.path.join(os.getcwd(), 'saved_models')\n",
        "model_name = 'keras_cifar10_trained_model.h5'"
      ],
      "execution_count": 2,
      "outputs": []
    },
    {
      "metadata": {
        "id": "_W4drVHwJNuX",
        "colab_type": "code",
        "colab": {
          "base_uri": "https://localhost:8080/",
          "height": 72
        },
        "outputId": "93945ad0-6580-4ab4-95c6-b88ccea2e4fc"
      },
      "cell_type": "code",
      "source": [
        "# The data, split between train and test sets:\n",
        "(x_train, y_train), (x_test, y_test) = cifar10.load_data()\n",
        "print('x_train shape:', x_train.shape)\n",
        "print(x_train.shape[0], 'train samples')\n",
        "print(x_test.shape[0], 'test samples')\n",
        "# Convert class vectors to binary class matrices.\n",
        "y_train = keras.utils.to_categorical(y_train, num_classes)\n",
        "y_test = keras.utils.to_categorical(y_test, num_classes)"
      ],
      "execution_count": 3,
      "outputs": [
        {
          "output_type": "stream",
          "text": [
            "x_train shape: (50000, 32, 32, 3)\n",
            "50000 train samples\n",
            "10000 test samples\n"
          ],
          "name": "stdout"
        }
      ]
    },
    {
      "metadata": {
        "id": "BcpkOYuyBl6p",
        "colab_type": "code",
        "colab": {
          "base_uri": "https://localhost:8080/",
          "height": 17
        },
        "outputId": "23e957b1-8b05-4435-f85a-8ba571977382"
      },
      "cell_type": "code",
      "source": [
        "l2_lambda = 0.0001"
      ],
      "execution_count": 4,
      "outputs": []
    },
    {
      "metadata": {
        "id": "yXCxfdiyJaB_",
        "colab_type": "code",
        "colab": {
          "base_uri": "https://localhost:8080/",
          "height": 17
        },
        "outputId": "443f6914-9cd6-4508-f0e5-598e63d3a95e"
      },
      "cell_type": "code",
      "source": [
        "# You can modify Model here.\n",
        "model = Sequential()\n",
        "model.add(Conv2D(32, (3, 3), padding='same',\n",
        "                 input_shape=x_train.shape[1:],\n",
        "                 kernel_initializer='he_uniform', \n",
        "                 kernel_regularizer=l2(l2_lambda)))\n",
        "model.add(Activation('relu'))\n",
        "model.add(BatchNormalization())\n",
        "model.add(Conv2D(32, (3, 3),\n",
        "                 kernel_initializer='he_uniform', \n",
        "                 kernel_regularizer=l2(l2_lambda)))\n",
        "model.add(Activation('relu'))\n",
        "model.add(BatchNormalization())\n",
        "model.add(MaxPooling2D(pool_size=(2, 2)))\n",
        "model.add(Dropout(0.25))\n",
        "\n",
        "model.add(Conv2D(64, (3, 3), padding='same',\n",
        "                 kernel_initializer='he_uniform', \n",
        "                 kernel_regularizer=l2(l2_lambda)))\n",
        "model.add(Activation('relu'))\n",
        "model.add(BatchNormalization())\n",
        "model.add(Conv2D(64, (3, 3),\n",
        "                 kernel_initializer='he_uniform', \n",
        "                 kernel_regularizer=l2(l2_lambda)))\n",
        "model.add(Activation('relu'))\n",
        "model.add(BatchNormalization())\n",
        "model.add(Dropout(0.25))\n",
        "model.add(Conv2D(64, (3, 3),\n",
        "                 kernel_initializer='he_uniform', \n",
        "                 kernel_regularizer=l2(l2_lambda)))\n",
        "model.add(Activation('relu'))\n",
        "model.add(BatchNormalization())\n",
        "model.add(MaxPooling2D(pool_size=(2, 2)))\n",
        "model.add(Dropout(0.35))\n",
        "\n",
        "model.add(Flatten())\n",
        "model.add(Dense(512,\n",
        "               kernel_initializer='he_uniform', \n",
        "               kernel_regularizer=l2(l2_lambda)))\n",
        "model.add(Activation('relu'))\n",
        "model.add(BatchNormalization())\n",
        "model.add(Dropout(0.5))\n",
        "model.add(Dense(num_classes,\n",
        "                kernel_initializer='glorot_uniform', \n",
        "                kernel_regularizer=l2(l2_lambda)))\n",
        "model.add(Activation('softmax'))"
      ],
      "execution_count": 5,
      "outputs": []
    },
    {
      "metadata": {
        "id": "M-1woqDgJtQp",
        "colab_type": "code",
        "colab": {
          "base_uri": "https://localhost:8080/",
          "height": 17
        },
        "outputId": "132c748d-f34c-4ac7-8659-2b40f3fe84aa"
      },
      "cell_type": "code",
      "source": [
        "# Let's train the model using RMSprop\n",
        "model.compile(loss='categorical_crossentropy',\n",
        "              optimizer='nadam',\n",
        "              metrics=['accuracy'])"
      ],
      "execution_count": 6,
      "outputs": []
    },
    {
      "metadata": {
        "id": "-meY7yvnJvuQ",
        "colab_type": "code",
        "colab": {
          "base_uri": "https://localhost:8080/",
          "height": 17
        },
        "outputId": "848a830e-7feb-492a-abea-a0dbadb996ee"
      },
      "cell_type": "code",
      "source": [
        "x_train = x_train.astype('float16')\n",
        "x_test = x_test.astype('float16')\n",
        "x_train /= 255\n",
        "x_test /= 255"
      ],
      "execution_count": 7,
      "outputs": []
    },
    {
      "metadata": {
        "id": "ipbilvhJJ_yp",
        "colab_type": "code",
        "colab": {
          "base_uri": "https://localhost:8080/",
          "height": 17
        },
        "outputId": "f52c0c2c-2ece-4165-d633-3a912239b961"
      },
      "cell_type": "code",
      "source": [
        "data_augmentation = False"
      ],
      "execution_count": 8,
      "outputs": []
    },
    {
      "metadata": {
        "id": "VOyH2hLqJxlu",
        "colab_type": "code",
        "colab": {
          "base_uri": "https://localhost:8080/",
          "height": 2142
        },
        "outputId": "a30f081f-102e-41ba-b7bc-9c321b1461d2"
      },
      "cell_type": "code",
      "source": [
        "if not data_augmentation:\n",
        "    print('Not using data augmentation.')\n",
        "    model.fit(x_train, y_train,\n",
        "              batch_size=batch_size,\n",
        "              epochs=epochs,\n",
        "              validation_data=(x_test, y_test),\n",
        "              shuffle=True,\n",
        "              callbacks=[EarlyStopping(monitor='val_loss', patience=8)])\n",
        "else:\n",
        "    print('Using real-time data augmentation.')\n",
        "    # This will do preprocessing and realtime data augmentation:\n",
        "    datagen = ImageDataGenerator(\n",
        "        featurewise_center=False,  # set input mean to 0 over the dataset\n",
        "        samplewise_center=False,  # set each sample mean to 0\n",
        "        featurewise_std_normalization=False,  # divide inputs by std of the dataset\n",
        "        samplewise_std_normalization=False,  # divide each input by its std\n",
        "        zca_whitening=False,  # apply ZCA whitening\n",
        "        rotation_range=0,  # randomly rotate images in the range (degrees, 0 to 180)\n",
        "        width_shift_range=0.1,  # randomly shift images horizontally (fraction of total width)\n",
        "        height_shift_range=0.1,  # randomly shift images vertically (fraction of total height)\n",
        "        horizontal_flip=True,  # randomly flip images\n",
        "        vertical_flip=False)  # randomly flip images\n",
        "\n",
        "    # Compute quantities required for feature-wise normalization\n",
        "    # (std, mean, and principal components if ZCA whitening is applied).\n",
        "    datagen.fit(x_train)\n",
        "\n",
        "    # Fit the model on the batches generated by datagen.flow().\n",
        "    model.fit_generator(datagen.flow(x_train, y_train, batch_size=batch_size), samples_per_epoch=len(x_train),\n",
        "                        epochs=epochs, validation_data=(x_test, y_test), workers=4)"
      ],
      "execution_count": 9,
      "outputs": [
        {
          "output_type": "stream",
          "text": [
            "Not using data augmentation.\n",
            "Train on 50000 samples, validate on 10000 samples\n",
            "Epoch 1/100\n",
            "33600/50000 [===================>..........] - ETA: 23s - loss: 1.9099 - acc: 0.4260"
          ],
          "name": "stdout"
        },
        {
          "output_type": "stream",
          "text": [
            "50000/50000 [==============================] - 74s 1ms/step - loss: 1.7845 - acc: 0.4645 - val_loss: 1.5247 - val_acc: 0.5398\n",
            "Epoch 2/100\n",
            "20448/50000 [===========>..................] - ETA: 40s - loss: 1.4116 - acc: 0.5962"
          ],
          "name": "stdout"
        },
        {
          "output_type": "stream",
          "text": [
            "50000/50000 [==============================] - 72s 1ms/step - loss: 1.3441 - acc: 0.6261 - val_loss: 1.3258 - val_acc: 0.6400\n",
            "Epoch 3/100\n",
            "14720/50000 [=======>......................] - ETA: 49s - loss: 1.2363 - acc: 0.6718"
          ],
          "name": "stdout"
        },
        {
          "output_type": "stream",
          "text": [
            "50000/50000 [==============================] - 72s 1ms/step - loss: 1.2296 - acc: 0.6803 - val_loss: 1.2545 - val_acc: 0.6773\n",
            "Epoch 4/100\n",
            "13088/50000 [======>.......................] - ETA: 51s - loss: 1.1883 - acc: 0.7039"
          ],
          "name": "stdout"
        },
        {
          "output_type": "stream",
          "text": [
            "50000/50000 [==============================] - 72s 1ms/step - loss: 1.1926 - acc: 0.7096 - val_loss: 1.2022 - val_acc: 0.7097\n",
            "Epoch 5/100\n",
            "12768/50000 [======>.......................] - ETA: 51s - loss: 1.1399 - acc: 0.7313"
          ],
          "name": "stdout"
        },
        {
          "output_type": "stream",
          "text": [
            "50000/50000 [==============================] - 72s 1ms/step - loss: 1.1692 - acc: 0.7272 - val_loss: 1.0739 - val_acc: 0.7663\n",
            "Epoch 6/100\n",
            "12416/50000 [======>.......................] - ETA: 52s - loss: 1.1342 - acc: 0.7401"
          ],
          "name": "stdout"
        },
        {
          "output_type": "stream",
          "text": [
            "50000/50000 [==============================] - 73s 1ms/step - loss: 1.1535 - acc: 0.7386 - val_loss: 1.1526 - val_acc: 0.7392\n",
            "Epoch 7/100\n",
            "11616/50000 [=====>........................] - ETA: 53s - loss: 1.1288 - acc: 0.7456"
          ],
          "name": "stdout"
        },
        {
          "output_type": "stream",
          "text": [
            "50000/50000 [==============================] - 73s 1ms/step - loss: 1.1337 - acc: 0.7472 - val_loss: 1.1243 - val_acc: 0.7504\n",
            "Epoch 8/100\n",
            "12320/50000 [======>.......................] - ETA: 50s - loss: 1.1114 - acc: 0.7585"
          ],
          "name": "stdout"
        },
        {
          "output_type": "stream",
          "text": [
            "50000/50000 [==============================] - 72s 1ms/step - loss: 1.1226 - acc: 0.7572 - val_loss: 1.0276 - val_acc: 0.7909\n",
            "Epoch 9/100\n",
            "12064/50000 [======>.......................] - ETA: 52s - loss: 1.1060 - acc: 0.7609"
          ],
          "name": "stdout"
        },
        {
          "output_type": "stream",
          "text": [
            "50000/50000 [==============================] - 72s 1ms/step - loss: 1.1101 - acc: 0.7607 - val_loss: 1.0927 - val_acc: 0.7668\n",
            "Epoch 10/100\n",
            "12032/50000 [======>.......................] - ETA: 52s - loss: 1.0608 - acc: 0.7773"
          ],
          "name": "stdout"
        },
        {
          "output_type": "stream",
          "text": [
            "50000/50000 [==============================] - 72s 1ms/step - loss: 1.0992 - acc: 0.7659 - val_loss: 1.0306 - val_acc: 0.7898\n",
            "Epoch 11/100\n",
            "11840/50000 [======>.......................] - ETA: 52s - loss: 1.0497 - acc: 0.7807"
          ],
          "name": "stdout"
        },
        {
          "output_type": "stream",
          "text": [
            "50000/50000 [==============================] - 72s 1ms/step - loss: 1.0784 - acc: 0.7718 - val_loss: 1.1132 - val_acc: 0.7576\n",
            "Epoch 12/100\n",
            "12128/50000 [======>.......................] - ETA: 51s - loss: 1.0490 - acc: 0.7786"
          ],
          "name": "stdout"
        },
        {
          "output_type": "stream",
          "text": [
            "50000/50000 [==============================] - 72s 1ms/step - loss: 1.0744 - acc: 0.7722 - val_loss: 1.0836 - val_acc: 0.7681\n",
            "Epoch 13/100\n",
            "12000/50000 [======>.......................] - ETA: 52s - loss: 1.0514 - acc: 0.7817"
          ],
          "name": "stdout"
        },
        {
          "output_type": "stream",
          "text": [
            "50000/50000 [==============================] - 73s 1ms/step - loss: 1.0694 - acc: 0.7754 - val_loss: 1.0082 - val_acc: 0.7934\n",
            "Epoch 14/100\n",
            "11584/50000 [=====>........................] - ETA: 53s - loss: 1.0244 - acc: 0.7897"
          ],
          "name": "stdout"
        },
        {
          "output_type": "stream",
          "text": [
            "50000/50000 [==============================] - 72s 1ms/step - loss: 1.0598 - acc: 0.7796 - val_loss: 1.0259 - val_acc: 0.7896\n",
            "Epoch 15/100\n",
            "12128/50000 [======>.......................] - ETA: 52s - loss: 1.0284 - acc: 0.7888"
          ],
          "name": "stdout"
        },
        {
          "output_type": "stream",
          "text": [
            "50000/50000 [==============================] - 72s 1ms/step - loss: 1.0562 - acc: 0.7808 - val_loss: 0.9783 - val_acc: 0.8063\n",
            "Epoch 16/100\n",
            "12192/50000 [======>.......................] - ETA: 52s - loss: 1.0225 - acc: 0.7917"
          ],
          "name": "stdout"
        },
        {
          "output_type": "stream",
          "text": [
            "50000/50000 [==============================] - 72s 1ms/step - loss: 1.0436 - acc: 0.7828 - val_loss: 1.2649 - val_acc: 0.7149\n",
            "Epoch 17/100\n",
            "11744/50000 [======>.......................] - ETA: 53s - loss: 1.0261 - acc: 0.7881"
          ],
          "name": "stdout"
        },
        {
          "output_type": "stream",
          "text": [
            "50000/50000 [==============================] - 72s 1ms/step - loss: 1.0385 - acc: 0.7830 - val_loss: 1.0947 - val_acc: 0.7606\n",
            "Epoch 18/100\n",
            "11584/50000 [=====>........................] - ETA: 53s - loss: 1.0144 - acc: 0.7964"
          ],
          "name": "stdout"
        },
        {
          "output_type": "stream",
          "text": [
            "50000/50000 [==============================] - 73s 1ms/step - loss: 1.0306 - acc: 0.7895 - val_loss: 1.1186 - val_acc: 0.7493\n",
            "Epoch 19/100\n",
            "11840/50000 [======>.......................] - ETA: 52s - loss: 1.0160 - acc: 0.7905"
          ],
          "name": "stdout"
        },
        {
          "output_type": "stream",
          "text": [
            "50000/50000 [==============================] - 72s 1ms/step - loss: 1.0249 - acc: 0.7880 - val_loss: 1.0245 - val_acc: 0.7873\n",
            "Epoch 20/100\n",
            "11968/50000 [======>.......................] - ETA: 52s - loss: 1.0133 - acc: 0.7911"
          ],
          "name": "stdout"
        },
        {
          "output_type": "stream",
          "text": [
            "50000/50000 [==============================] - 73s 1ms/step - loss: 1.0247 - acc: 0.7882 - val_loss: 0.9944 - val_acc: 0.7956\n",
            "Epoch 21/100\n",
            "11904/50000 [======>.......................] - ETA: 52s - loss: 0.9930 - acc: 0.7984"
          ],
          "name": "stdout"
        },
        {
          "output_type": "stream",
          "text": [
            "50000/50000 [==============================] - 72s 1ms/step - loss: 1.0185 - acc: 0.7903 - val_loss: 1.0286 - val_acc: 0.7888\n",
            "Epoch 22/100\n",
            "11936/50000 [======>.......................] - ETA: 52s - loss: 0.9846 - acc: 0.8011"
          ],
          "name": "stdout"
        },
        {
          "output_type": "stream",
          "text": [
            "50000/50000 [==============================] - 72s 1ms/step - loss: 1.0137 - acc: 0.7904 - val_loss: 1.2312 - val_acc: 0.7196\n",
            "Epoch 23/100\n",
            "11936/50000 [======>.......................] - ETA: 52s - loss: 0.9840 - acc: 0.8014"
          ],
          "name": "stdout"
        },
        {
          "output_type": "stream",
          "text": [
            "50000/50000 [==============================] - 72s 1ms/step - loss: 1.0115 - acc: 0.7925 - val_loss: 0.9588 - val_acc: 0.8120\n",
            "Epoch 24/100\n",
            "11936/50000 [======>.......................] - ETA: 52s - loss: 0.9900 - acc: 0.7963"
          ],
          "name": "stdout"
        },
        {
          "output_type": "stream",
          "text": [
            "50000/50000 [==============================] - 72s 1ms/step - loss: 1.0060 - acc: 0.7920 - val_loss: 1.0180 - val_acc: 0.7856\n",
            "Epoch 25/100\n",
            "11840/50000 [======>.......................] - ETA: 53s - loss: 0.9851 - acc: 0.7989"
          ],
          "name": "stdout"
        },
        {
          "output_type": "stream",
          "text": [
            "50000/50000 [==============================] - 73s 1ms/step - loss: 1.0054 - acc: 0.7925 - val_loss: 1.0100 - val_acc: 0.7927\n",
            "Epoch 26/100\n",
            "11072/50000 [=====>........................] - ETA: 54s - loss: 0.9652 - acc: 0.8042"
          ],
          "name": "stdout"
        },
        {
          "output_type": "stream",
          "text": [
            "50000/50000 [==============================] - 73s 1ms/step - loss: 0.9995 - acc: 0.7955 - val_loss: 0.9815 - val_acc: 0.8043\n",
            "Epoch 27/100\n",
            "11456/50000 [=====>........................] - ETA: 53s - loss: 0.9853 - acc: 0.8001"
          ],
          "name": "stdout"
        },
        {
          "output_type": "stream",
          "text": [
            "50000/50000 [==============================] - 73s 1ms/step - loss: 0.9961 - acc: 0.7971 - val_loss: 0.9755 - val_acc: 0.8060\n",
            "Epoch 28/100\n",
            "11392/50000 [=====>........................] - ETA: 53s - loss: 0.9749 - acc: 0.8030"
          ],
          "name": "stdout"
        },
        {
          "output_type": "stream",
          "text": [
            "50000/50000 [==============================] - 73s 1ms/step - loss: 0.9914 - acc: 0.7961 - val_loss: 1.1302 - val_acc: 0.7468\n",
            "Epoch 29/100\n",
            "11136/50000 [=====>........................] - ETA: 54s - loss: 0.9767 - acc: 0.8009"
          ],
          "name": "stdout"
        },
        {
          "output_type": "stream",
          "text": [
            "50000/50000 [==============================] - 73s 1ms/step - loss: 0.9833 - acc: 0.7993 - val_loss: 0.9436 - val_acc: 0.8115\n",
            "Epoch 30/100\n",
            "11488/50000 [=====>........................] - ETA: 53s - loss: 0.9645 - acc: 0.8048"
          ],
          "name": "stdout"
        },
        {
          "output_type": "stream",
          "text": [
            "50000/50000 [==============================] - 72s 1ms/step - loss: 0.9850 - acc: 0.7984 - val_loss: 1.0325 - val_acc: 0.7835\n",
            "Epoch 31/100\n",
            "12224/50000 [======>.......................] - ETA: 51s - loss: 0.9511 - acc: 0.8099"
          ],
          "name": "stdout"
        },
        {
          "output_type": "stream",
          "text": [
            "50000/50000 [==============================] - 72s 1ms/step - loss: 0.9771 - acc: 0.7996 - val_loss: 0.9956 - val_acc: 0.7926\n",
            "Epoch 32/100\n",
            "12160/50000 [======>.......................] - ETA: 52s - loss: 0.9500 - acc: 0.8084"
          ],
          "name": "stdout"
        },
        {
          "output_type": "stream",
          "text": [
            "50000/50000 [==============================] - 72s 1ms/step - loss: 0.9772 - acc: 0.8000 - val_loss: 1.0422 - val_acc: 0.7809\n",
            "Epoch 33/100\n",
            "12160/50000 [======>.......................] - ETA: 52s - loss: 0.9567 - acc: 0.8082"
          ],
          "name": "stdout"
        },
        {
          "output_type": "stream",
          "text": [
            "50000/50000 [==============================] - 73s 1ms/step - loss: 0.9756 - acc: 0.8020 - val_loss: 0.9466 - val_acc: 0.8084\n",
            "Epoch 34/100\n",
            "11712/50000 [======>.......................] - ETA: 53s - loss: 0.9525 - acc: 0.8081"
          ],
          "name": "stdout"
        },
        {
          "output_type": "stream",
          "text": [
            "50000/50000 [==============================] - 73s 1ms/step - loss: 0.9727 - acc: 0.8009 - val_loss: 0.9668 - val_acc: 0.8038\n",
            "Epoch 35/100\n",
            "11584/50000 [=====>........................] - ETA: 53s - loss: 0.9496 - acc: 0.8065"
          ],
          "name": "stdout"
        },
        {
          "output_type": "stream",
          "text": [
            "50000/50000 [==============================] - 73s 1ms/step - loss: 0.9730 - acc: 0.7999 - val_loss: 0.9251 - val_acc: 0.8178\n",
            "Epoch 36/100\n",
            "11680/50000 [======>.......................] - ETA: 52s - loss: 0.9626 - acc: 0.8028"
          ],
          "name": "stdout"
        },
        {
          "output_type": "stream",
          "text": [
            "50000/50000 [==============================] - 72s 1ms/step - loss: 0.9727 - acc: 0.8002 - val_loss: 0.9404 - val_acc: 0.8119\n",
            "Epoch 37/100\n",
            "11968/50000 [======>.......................] - ETA: 52s - loss: 0.9455 - acc: 0.8101"
          ],
          "name": "stdout"
        },
        {
          "output_type": "stream",
          "text": [
            "50000/50000 [==============================] - 72s 1ms/step - loss: 0.9688 - acc: 0.8010 - val_loss: 0.9340 - val_acc: 0.8141\n",
            "Epoch 38/100\n",
            "11456/50000 [=====>........................] - ETA: 53s - loss: 0.9452 - acc: 0.8124"
          ],
          "name": "stdout"
        },
        {
          "output_type": "stream",
          "text": [
            "50000/50000 [==============================] - 73s 1ms/step - loss: 0.9707 - acc: 0.8018 - val_loss: 1.0233 - val_acc: 0.7830\n",
            "Epoch 39/100\n",
            "11488/50000 [=====>........................] - ETA: 53s - loss: 0.9348 - acc: 0.8126"
          ],
          "name": "stdout"
        },
        {
          "output_type": "stream",
          "text": [
            "50000/50000 [==============================] - 72s 1ms/step - loss: 0.9621 - acc: 0.8023 - val_loss: 1.0431 - val_acc: 0.7760\n",
            "Epoch 40/100\n",
            "11712/50000 [======>.......................] - ETA: 53s - loss: 0.9436 - acc: 0.8081"
          ],
          "name": "stdout"
        },
        {
          "output_type": "stream",
          "text": [
            "50000/50000 [==============================] - 72s 1ms/step - loss: 0.9636 - acc: 0.8038 - val_loss: 0.9547 - val_acc: 0.8051\n",
            "Epoch 41/100\n",
            "12640/50000 [======>.......................] - ETA: 51s - loss: 0.9314 - acc: 0.8123"
          ],
          "name": "stdout"
        },
        {
          "output_type": "stream",
          "text": [
            "50000/50000 [==============================] - 73s 1ms/step - loss: 0.9599 - acc: 0.8033 - val_loss: 0.9149 - val_acc: 0.8182\n",
            "Epoch 42/100\n",
            "11872/50000 [======>.......................] - ETA: 52s - loss: 0.9220 - acc: 0.8164"
          ],
          "name": "stdout"
        },
        {
          "output_type": "stream",
          "text": [
            "50000/50000 [==============================] - 72s 1ms/step - loss: 0.9546 - acc: 0.8049 - val_loss: 0.9538 - val_acc: 0.8038\n",
            "Epoch 43/100\n",
            "12928/50000 [======>.......................] - ETA: 49s - loss: 0.9397 - acc: 0.8082"
          ],
          "name": "stdout"
        },
        {
          "output_type": "stream",
          "text": [
            "50000/50000 [==============================] - 71s 1ms/step - loss: 0.9570 - acc: 0.8049 - val_loss: 0.9858 - val_acc: 0.7954\n",
            "Epoch 44/100\n",
            "13120/50000 [======>.......................] - ETA: 49s - loss: 0.9352 - acc: 0.8104"
          ],
          "name": "stdout"
        },
        {
          "output_type": "stream",
          "text": [
            "50000/50000 [==============================] - 71s 1ms/step - loss: 0.9508 - acc: 0.8046 - val_loss: 0.9424 - val_acc: 0.8036\n",
            "Epoch 45/100\n",
            "13312/50000 [======>.......................] - ETA: 49s - loss: 0.9340 - acc: 0.8067"
          ],
          "name": "stdout"
        },
        {
          "output_type": "stream",
          "text": [
            "50000/50000 [==============================] - 70s 1ms/step - loss: 0.9517 - acc: 0.8028 - val_loss: 0.9186 - val_acc: 0.8168\n",
            "Epoch 46/100\n",
            "13632/50000 [=======>......................] - ETA: 48s - loss: 0.9395 - acc: 0.8113"
          ],
          "name": "stdout"
        },
        {
          "output_type": "stream",
          "text": [
            "50000/50000 [==============================] - 70s 1ms/step - loss: 0.9553 - acc: 0.8066 - val_loss: 0.9132 - val_acc: 0.8147\n",
            "Epoch 47/100\n",
            "13568/50000 [=======>......................] - ETA: 49s - loss: 0.9298 - acc: 0.8121"
          ],
          "name": "stdout"
        },
        {
          "output_type": "stream",
          "text": [
            "50000/50000 [==============================] - 71s 1ms/step - loss: 0.9486 - acc: 0.8048 - val_loss: 0.9139 - val_acc: 0.8148\n",
            "Epoch 48/100\n",
            "13024/50000 [======>.......................] - ETA: 50s - loss: 0.9366 - acc: 0.8110"
          ],
          "name": "stdout"
        },
        {
          "output_type": "stream",
          "text": [
            "50000/50000 [==============================] - 71s 1ms/step - loss: 0.9525 - acc: 0.8040 - val_loss: 0.8929 - val_acc: 0.8228\n",
            "Epoch 49/100\n",
            "13376/50000 [=======>......................] - ETA: 49s - loss: 0.9292 - acc: 0.8081"
          ],
          "name": "stdout"
        },
        {
          "output_type": "stream",
          "text": [
            "50000/50000 [==============================] - 71s 1ms/step - loss: 0.9462 - acc: 0.8042 - val_loss: 0.9687 - val_acc: 0.8002\n",
            "Epoch 50/100\n",
            "13088/50000 [======>.......................] - ETA: 50s - loss: 0.9175 - acc: 0.8186"
          ],
          "name": "stdout"
        },
        {
          "output_type": "stream",
          "text": [
            "50000/50000 [==============================] - 71s 1ms/step - loss: 0.9419 - acc: 0.8091 - val_loss: 0.9456 - val_acc: 0.8032\n",
            "Epoch 51/100\n",
            "13632/50000 [=======>......................] - ETA: 48s - loss: 0.9226 - acc: 0.8128"
          ],
          "name": "stdout"
        },
        {
          "output_type": "stream",
          "text": [
            "50000/50000 [==============================] - 70s 1ms/step - loss: 0.9421 - acc: 0.8059 - val_loss: 1.0057 - val_acc: 0.7856\n",
            "Epoch 52/100\n",
            "13728/50000 [=======>......................] - ETA: 49s - loss: 0.9165 - acc: 0.8174"
          ],
          "name": "stdout"
        },
        {
          "output_type": "stream",
          "text": [
            "50000/50000 [==============================] - 72s 1ms/step - loss: 0.9400 - acc: 0.8095 - val_loss: 0.9093 - val_acc: 0.8198\n",
            "Epoch 53/100\n",
            "13152/50000 [======>.......................] - ETA: 50s - loss: 0.9191 - acc: 0.8142"
          ],
          "name": "stdout"
        },
        {
          "output_type": "stream",
          "text": [
            "50000/50000 [==============================] - 72s 1ms/step - loss: 0.9447 - acc: 0.8061 - val_loss: 0.9550 - val_acc: 0.7966\n",
            "Epoch 54/100\n",
            "12320/50000 [======>.......................] - ETA: 52s - loss: 0.9079 - acc: 0.8170"
          ],
          "name": "stdout"
        },
        {
          "output_type": "stream",
          "text": [
            "50000/50000 [==============================] - 72s 1ms/step - loss: 0.9334 - acc: 0.8084 - val_loss: 0.9520 - val_acc: 0.8033\n",
            "Epoch 55/100\n",
            "12224/50000 [======>.......................] - ETA: 51s - loss: 0.9026 - acc: 0.8175"
          ],
          "name": "stdout"
        },
        {
          "output_type": "stream",
          "text": [
            "50000/50000 [==============================] - 72s 1ms/step - loss: 0.9466 - acc: 0.8058 - val_loss: 0.9446 - val_acc: 0.8039\n",
            "Epoch 56/100\n",
            "12736/50000 [======>.......................] - ETA: 50s - loss: 0.9292 - acc: 0.8127"
          ],
          "name": "stdout"
        },
        {
          "output_type": "stream",
          "text": [
            "50000/50000 [==============================] - 72s 1ms/step - loss: 0.9439 - acc: 0.8057 - val_loss: 0.9092 - val_acc: 0.8172\n"
          ],
          "name": "stdout"
        }
      ]
    },
    {
      "metadata": {
        "id": "41ukEJ0pOf2_",
        "colab_type": "code",
        "colab": {
          "base_uri": "https://localhost:8080/",
          "height": 17
        },
        "outputId": "bdb94329-d3f5-4294-ba80-cfe84e90605a"
      },
      "cell_type": "code",
      "source": [
        "from google.colab import files "
      ],
      "execution_count": 10,
      "outputs": []
    },
    {
      "metadata": {
        "id": "rFXKKMK6KCnx",
        "colab_type": "code",
        "colab": {
          "base_uri": "https://localhost:8080/",
          "height": 35
        },
        "outputId": "48c0b768-116b-4816-b740-2ac30c5403df"
      },
      "cell_type": "code",
      "source": [
        "# Save model and weights\n",
        "if not os.path.isdir(save_dir):\n",
        "    os.makedirs(save_dir)\n",
        "model_path = os.path.join(save_dir, model_name)\n",
        "model.save(model_path)\n",
        "print('Saved trained model at %s ' % model_path)"
      ],
      "execution_count": 11,
      "outputs": [
        {
          "output_type": "stream",
          "text": [
            "Saved trained model at /content/saved_models/keras_cifar10_trained_model.h5 \n"
          ],
          "name": "stdout"
        }
      ]
    },
    {
      "metadata": {
        "id": "y74exG9iOvH2",
        "colab_type": "code",
        "colab": {
          "base_uri": "https://localhost:8080/",
          "height": 17
        },
        "outputId": "d31b8d2f-ef51-4e63-bfbb-3c2de58535f7"
      },
      "cell_type": "code",
      "source": [
        "files.download(model_path)"
      ],
      "execution_count": 12,
      "outputs": []
    },
    {
      "metadata": {
        "id": "skD7n817_541",
        "colab_type": "code",
        "colab": {
          "base_uri": "https://localhost:8080/",
          "height": 35
        },
        "outputId": "13429ca5-11ab-4ca5-d844-4bfde9b1e041"
      },
      "cell_type": "code",
      "source": [
        "model_arch_path = os.path.join(save_dir, 'model_arch.json')\n",
        "model_json = model.to_json()\n",
        "with open(model_arch_path, \"w\") as json_file:\n",
        "    json_file.write(model_json)\n",
        "print('Saved model architecture at %s ' % model_arch_path)\n",
        "files.download(model_arch_path)"
      ],
      "execution_count": 13,
      "outputs": [
        {
          "output_type": "stream",
          "text": [
            "Saved model architecture at /content/saved_models/model_arch.json \n"
          ],
          "name": "stdout"
        }
      ]
    },
    {
      "metadata": {
        "id": "yKYPkmbwKRCy",
        "colab_type": "code",
        "colab": {
          "base_uri": "https://localhost:8080/",
          "height": 72
        },
        "outputId": "59b7f132-d23b-4343-ef08-bef9b1b7094e"
      },
      "cell_type": "code",
      "source": [
        "# Score trained model.\n",
        "scores = model.evaluate(x_test, y_test, verbose=1)\n",
        "print('Test loss:', scores[0])\n",
        "print('Test accuracy:', scores[1])"
      ],
      "execution_count": 10,
      "outputs": [
        {
          "output_type": "stream",
          "text": [
            "10000/10000 [==============================] - 3s 338us/step\n",
            "Test loss: 0.9091593200683594\n",
            "Test accuracy: 0.8172\n"
          ],
          "name": "stdout"
        }
      ]
    },
    {
      "metadata": {
        "id": "yV80kbuPN4Lf",
        "colab_type": "code",
        "colab": {}
      },
      "cell_type": "code",
      "source": [
        ""
      ],
      "execution_count": 0,
      "outputs": []
    }
  ]
}