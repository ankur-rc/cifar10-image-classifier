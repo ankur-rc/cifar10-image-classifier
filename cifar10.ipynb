{
  "nbformat": 4,
  "nbformat_minor": 0,
  "metadata": {
    "colab": {
      "name": "cifar10.ipynb",
      "version": "0.3.2",
      "provenance": [],
      "collapsed_sections": []
    },
    "kernelspec": {
      "name": "python2",
      "display_name": "Python 2"
    },
    "accelerator": "GPU"
  },
  "cells": [
    {
      "cell_type": "markdown",
      "metadata": {
        "id": "view-in-github",
        "colab_type": "text"
      },
      "source": [
        "[View in Colaboratory](https://colab.research.google.com/github/nautilusPrime/cifar10-image-classifier/blob/master/cifar10.ipynb)"
      ]
    },
    {
      "metadata": {
        "id": "oue7VXqkI3Ia",
        "colab_type": "code",
        "colab": {}
      },
      "cell_type": "code",
      "source": [
        "\n",
        "from __future__ import print_function\n",
        "import keras\n",
        "from keras.datasets import cifar10\n",
        "from keras.preprocessing.image import ImageDataGenerator\n",
        "from keras.models import Sequential\n",
        "from keras.layers import Dense, Dropout, Activation, Flatten\n",
        "from keras.layers import Conv2D, MaxPooling2D\n",
        "import os"
      ],
      "execution_count": 0,
      "outputs": []
    },
    {
      "metadata": {
        "id": "sBmT5avYJLj2",
        "colab_type": "code",
        "colab": {}
      },
      "cell_type": "code",
      "source": [
        "batch_size = 32\n",
        "num_classes = 10\n",
        "epochs = 20\n",
        "save_dir = os.path.join(os.getcwd(), 'saved_models')\n",
        "model_name = 'keras_cifar10_trained_model.h5'"
      ],
      "execution_count": 0,
      "outputs": []
    },
    {
      "metadata": {
        "id": "_W4drVHwJNuX",
        "colab_type": "code",
        "colab": {
          "base_uri": "https://localhost:8080/",
          "height": 72
        },
        "outputId": "8425fc2f-0746-451f-c115-fbb49c8334f9"
      },
      "cell_type": "code",
      "source": [
        "# The data, split between train and test sets:\n",
        "(x_train, y_train), (x_test, y_test) = cifar10.load_data()\n",
        "print('x_train shape:', x_train.shape)\n",
        "print(x_train.shape[0], 'train samples')\n",
        "print(x_test.shape[0], 'test samples')\n",
        "# Convert class vectors to binary class matrices.\n",
        "y_train = keras.utils.to_categorical(y_train, num_classes)\n",
        "y_test = keras.utils.to_categorical(y_test, num_classes)"
      ],
      "execution_count": 20,
      "outputs": [
        {
          "output_type": "stream",
          "text": [
            "x_train shape: (50000, 32, 32, 3)\n",
            "50000 train samples\n",
            "10000 test samples\n"
          ],
          "name": "stdout"
        }
      ]
    },
    {
      "metadata": {
        "id": "yXCxfdiyJaB_",
        "colab_type": "code",
        "colab": {}
      },
      "cell_type": "code",
      "source": [
        "# You can modify Model here.\n",
        "model = Sequential()\n",
        "model.add(Conv2D(32, (3, 3), padding='same',\n",
        "                 input_shape=x_train.shape[1:]))\n",
        "model.add(Activation('relu'))\n",
        "model.add(Conv2D(32, (3, 3)))\n",
        "model.add(Activation('relu'))\n",
        "model.add(MaxPooling2D(pool_size=(2, 2)))\n",
        "model.add(Dropout(0.25))\n",
        "\n",
        "model.add(Conv2D(64, (3, 3), padding='same'))\n",
        "model.add(Activation('relu'))\n",
        "model.add(Conv2D(64, (3, 3)))\n",
        "model.add(Activation('relu'))\n",
        "model.add(MaxPooling2D(pool_size=(2, 2)))\n",
        "model.add(Dropout(0.25))\n",
        "\n",
        "model.add(Flatten())\n",
        "model.add(Dense(512))\n",
        "model.add(Activation('relu'))\n",
        "model.add(Dropout(0.5))\n",
        "model.add(Dense(num_classes))\n",
        "model.add(Activation('softmax'))"
      ],
      "execution_count": 0,
      "outputs": []
    },
    {
      "metadata": {
        "id": "opbZf0QNJocP",
        "colab_type": "code",
        "colab": {}
      },
      "cell_type": "code",
      "source": [
        "# initiate RMSprop optimizer\n",
        "opt = keras.optimizers.rmsprop(lr=0.0001, decay=1e-6)"
      ],
      "execution_count": 0,
      "outputs": []
    },
    {
      "metadata": {
        "id": "M-1woqDgJtQp",
        "colab_type": "code",
        "colab": {}
      },
      "cell_type": "code",
      "source": [
        "# Let's train the model using RMSprop\n",
        "model.compile(loss='categorical_crossentropy',\n",
        "              optimizer=opt,\n",
        "              metrics=['accuracy'])"
      ],
      "execution_count": 0,
      "outputs": []
    },
    {
      "metadata": {
        "id": "-meY7yvnJvuQ",
        "colab_type": "code",
        "colab": {}
      },
      "cell_type": "code",
      "source": [
        "x_train = x_train.astype('float32')\n",
        "x_test = x_test.astype('float32')\n",
        "x_train /= 255\n",
        "x_test /= 255"
      ],
      "execution_count": 0,
      "outputs": []
    },
    {
      "metadata": {
        "id": "ipbilvhJJ_yp",
        "colab_type": "code",
        "colab": {}
      },
      "cell_type": "code",
      "source": [
        "data_augmentation = True"
      ],
      "execution_count": 0,
      "outputs": []
    },
    {
      "metadata": {
        "id": "VOyH2hLqJxlu",
        "colab_type": "code",
        "colab": {
          "base_uri": "https://localhost:8080/",
          "height": 812
        },
        "outputId": "7e6ab076-6a45-40c3-9fb0-7cbda547c428"
      },
      "cell_type": "code",
      "source": [
        "if not data_augmentation:\n",
        "    print('Not using data augmentation.')\n",
        "    model.fit(x_train, y_train,\n",
        "              batch_size=batch_size,\n",
        "              epochs=epochs,\n",
        "              validation_data=(x_test, y_test),\n",
        "              shuffle=True)\n",
        "else:\n",
        "    print('Using real-time data augmentation.')\n",
        "    # This will do preprocessing and realtime data augmentation:\n",
        "    datagen = ImageDataGenerator(\n",
        "        featurewise_center=False,  # set input mean to 0 over the dataset\n",
        "        samplewise_center=False,  # set each sample mean to 0\n",
        "        featurewise_std_normalization=False,  # divide inputs by std of the dataset\n",
        "        samplewise_std_normalization=False,  # divide each input by its std\n",
        "        zca_whitening=False,  # apply ZCA whitening\n",
        "        rotation_range=0,  # randomly rotate images in the range (degrees, 0 to 180)\n",
        "        width_shift_range=0.1,  # randomly shift images horizontally (fraction of total width)\n",
        "        height_shift_range=0.1,  # randomly shift images vertically (fraction of total height)\n",
        "        horizontal_flip=True,  # randomly flip images\n",
        "        vertical_flip=False)  # randomly flip images\n",
        "\n",
        "    # Compute quantities required for feature-wise normalization\n",
        "    # (std, mean, and principal components if ZCA whitening is applied).\n",
        "    datagen.fit(x_train)\n",
        "\n",
        "    # Fit the model on the batches generated by datagen.flow().\n",
        "    model.fit_generator(datagen.flow(x_train, y_train, batch_size=batch_size), samples_per_epoch=len(x_train),\n",
        "                        epochs=epochs, validation_data=(x_test, y_test), workers=4)"
      ],
      "execution_count": 26,
      "outputs": [
        {
          "output_type": "stream",
          "text": [
            "Using real-time data augmentation.\n"
          ],
          "name": "stdout"
        },
        {
          "output_type": "stream",
          "text": [
            "/usr/local/lib/python2.7/dist-packages/ipykernel_launcher.py:29: UserWarning: Update your `fit_generator` call to the Keras 2 API: `fit_generator(<keras.pre..., epochs=20, validation_data=(array([[[..., steps_per_epoch=1562, workers=4)`\n"
          ],
          "name": "stderr"
        },
        {
          "output_type": "stream",
          "text": [
            "Epoch 1/20\n",
            "1562/1562 [==============================] - 54s 35ms/step - loss: 1.8803 - acc: 0.3105 - val_loss: 1.5970 - val_acc: 0.4299\n",
            "Epoch 2/20\n",
            " 191/1562 [==>...........................] - ETA: 46s - loss: 1.6560 - acc: 0.3951"
          ],
          "name": "stdout"
        },
        {
          "output_type": "stream",
          "text": [
            "1562/1562 [==============================] - 55s 35ms/step - loss: 1.5975 - acc: 0.4175 - val_loss: 1.3859 - val_acc: 0.4996\n",
            "Epoch 3/20\n",
            " 363/1562 [=====>........................] - ETA: 40s - loss: 1.5106 - acc: 0.4555"
          ],
          "name": "stdout"
        },
        {
          "output_type": "stream",
          "text": [
            "1562/1562 [==============================] - 55s 35ms/step - loss: 1.4674 - acc: 0.4672 - val_loss: 1.3135 - val_acc: 0.5254\n",
            "Epoch 4/20\n",
            " 406/1562 [======>.......................] - ETA: 39s - loss: 1.4262 - acc: 0.4895"
          ],
          "name": "stdout"
        },
        {
          "output_type": "stream",
          "text": [
            "1562/1562 [==============================] - 55s 35ms/step - loss: 1.3839 - acc: 0.5029 - val_loss: 1.2382 - val_acc: 0.5572\n",
            "Epoch 5/20\n",
            " 429/1562 [=======>......................] - ETA: 38s - loss: 1.3380 - acc: 0.5158"
          ],
          "name": "stdout"
        },
        {
          "output_type": "stream",
          "text": [
            "1562/1562 [==============================] - 55s 35ms/step - loss: 1.3085 - acc: 0.5313 - val_loss: 1.1535 - val_acc: 0.5866\n",
            "Epoch 6/20\n",
            " 434/1562 [=======>......................] - ETA: 38s - loss: 1.2833 - acc: 0.5426"
          ],
          "name": "stdout"
        },
        {
          "output_type": "stream",
          "text": [
            "1562/1562 [==============================] - 55s 35ms/step - loss: 1.2487 - acc: 0.5545 - val_loss: 1.1491 - val_acc: 0.5929\n",
            "Epoch 7/20\n",
            " 440/1562 [=======>......................] - ETA: 39s - loss: 1.2243 - acc: 0.5651"
          ],
          "name": "stdout"
        },
        {
          "output_type": "stream",
          "text": [
            "1562/1562 [==============================] - 56s 36ms/step - loss: 1.1978 - acc: 0.5727 - val_loss: 1.0552 - val_acc: 0.6282\n",
            "Epoch 8/20\n",
            " 428/1562 [=======>......................] - ETA: 38s - loss: 1.1685 - acc: 0.5849"
          ],
          "name": "stdout"
        },
        {
          "output_type": "stream",
          "text": [
            "1562/1562 [==============================] - 55s 35ms/step - loss: 1.1579 - acc: 0.5881 - val_loss: 0.9730 - val_acc: 0.6528\n",
            "Epoch 9/20\n",
            " 424/1562 [=======>......................] - ETA: 38s - loss: 1.1299 - acc: 0.5954"
          ],
          "name": "stdout"
        },
        {
          "output_type": "stream",
          "text": [
            "1562/1562 [==============================] - 55s 35ms/step - loss: 1.1206 - acc: 0.6021 - val_loss: 1.0479 - val_acc: 0.6312\n",
            "Epoch 10/20\n",
            " 424/1562 [=======>......................] - ETA: 38s - loss: 1.1022 - acc: 0.6103"
          ],
          "name": "stdout"
        },
        {
          "output_type": "stream",
          "text": [
            "1562/1562 [==============================] - 54s 35ms/step - loss: 1.0936 - acc: 0.6147 - val_loss: 1.0278 - val_acc: 0.6380\n",
            "Epoch 11/20\n",
            " 436/1562 [=======>......................] - ETA: 37s - loss: 1.0594 - acc: 0.6236"
          ],
          "name": "stdout"
        },
        {
          "output_type": "stream",
          "text": [
            "1562/1562 [==============================] - 54s 35ms/step - loss: 1.0588 - acc: 0.6267 - val_loss: 1.0063 - val_acc: 0.6512\n",
            "Epoch 12/20\n",
            " 430/1562 [=======>......................] - ETA: 38s - loss: 1.0579 - acc: 0.6246"
          ],
          "name": "stdout"
        },
        {
          "output_type": "stream",
          "text": [
            "1562/1562 [==============================] - 55s 35ms/step - loss: 1.0411 - acc: 0.6343 - val_loss: 0.9207 - val_acc: 0.6843\n",
            "Epoch 13/20\n",
            " 430/1562 [=======>......................] - ETA: 37s - loss: 1.0221 - acc: 0.6435"
          ],
          "name": "stdout"
        },
        {
          "output_type": "stream",
          "text": [
            "1562/1562 [==============================] - 55s 35ms/step - loss: 1.0170 - acc: 0.6431 - val_loss: 0.9368 - val_acc: 0.6770\n",
            "Epoch 14/20\n",
            " 449/1562 [=======>......................] - ETA: 37s - loss: 0.9934 - acc: 0.6535"
          ],
          "name": "stdout"
        },
        {
          "output_type": "stream",
          "text": [
            "1562/1562 [==============================] - 54s 35ms/step - loss: 0.9952 - acc: 0.6526 - val_loss: 0.8503 - val_acc: 0.7072\n",
            "Epoch 15/20\n",
            " 456/1562 [=======>......................] - ETA: 37s - loss: 1.0015 - acc: 0.6545"
          ],
          "name": "stdout"
        },
        {
          "output_type": "stream",
          "text": [
            "1562/1562 [==============================] - 54s 35ms/step - loss: 0.9796 - acc: 0.6575 - val_loss: 0.8673 - val_acc: 0.7005\n",
            "Epoch 16/20\n",
            " 449/1562 [=======>......................] - ETA: 37s - loss: 0.9603 - acc: 0.6670"
          ],
          "name": "stdout"
        },
        {
          "output_type": "stream",
          "text": [
            "1562/1562 [==============================] - 54s 35ms/step - loss: 0.9621 - acc: 0.6639 - val_loss: 0.8269 - val_acc: 0.7113\n",
            "Epoch 17/20\n",
            " 450/1562 [=======>......................] - ETA: 37s - loss: 0.9363 - acc: 0.6703"
          ],
          "name": "stdout"
        },
        {
          "output_type": "stream",
          "text": [
            "1562/1562 [==============================] - 54s 35ms/step - loss: 0.9443 - acc: 0.6695 - val_loss: 0.8138 - val_acc: 0.7178\n",
            "Epoch 18/20\n",
            " 459/1562 [=======>......................] - ETA: 36s - loss: 0.9335 - acc: 0.6755"
          ],
          "name": "stdout"
        },
        {
          "output_type": "stream",
          "text": [
            "1562/1562 [==============================] - 54s 35ms/step - loss: 0.9330 - acc: 0.6755 - val_loss: 0.8145 - val_acc: 0.7195\n",
            "Epoch 19/20\n",
            " 450/1562 [=======>......................] - ETA: 37s - loss: 0.9112 - acc: 0.6797"
          ],
          "name": "stdout"
        },
        {
          "output_type": "stream",
          "text": [
            "1562/1562 [==============================] - 55s 35ms/step - loss: 0.9211 - acc: 0.6785 - val_loss: 0.7924 - val_acc: 0.7286\n",
            "Epoch 20/20\n",
            " 452/1562 [=======>......................] - ETA: 37s - loss: 0.8969 - acc: 0.6857"
          ],
          "name": "stdout"
        },
        {
          "output_type": "stream",
          "text": [
            "1562/1562 [==============================] - 54s 34ms/step - loss: 0.9100 - acc: 0.6820 - val_loss: 0.7657 - val_acc: 0.7374\n"
          ],
          "name": "stdout"
        }
      ]
    },
    {
      "metadata": {
        "id": "41ukEJ0pOf2_",
        "colab_type": "code",
        "colab": {}
      },
      "cell_type": "code",
      "source": [
        "from google.colab import files "
      ],
      "execution_count": 0,
      "outputs": []
    },
    {
      "metadata": {
        "id": "rFXKKMK6KCnx",
        "colab_type": "code",
        "colab": {
          "base_uri": "https://localhost:8080/",
          "height": 35
        },
        "outputId": "6638014f-5868-4566-ac09-f4c5f001bca2"
      },
      "cell_type": "code",
      "source": [
        "# Save model and weights\n",
        "if not os.path.isdir(save_dir):\n",
        "    os.makedirs(save_dir)\n",
        "model_path = os.path.join(save_dir, model_name)\n",
        "model.save(model_path)\n",
        "print('Saved trained model at %s ' % model_path)"
      ],
      "execution_count": 28,
      "outputs": [
        {
          "output_type": "stream",
          "text": [
            "Saved trained model at /content/saved_models/keras_cifar10_trained_model.h5 \n"
          ],
          "name": "stdout"
        }
      ]
    },
    {
      "metadata": {
        "id": "y74exG9iOvH2",
        "colab_type": "code",
        "colab": {}
      },
      "cell_type": "code",
      "source": [
        "files.download(model_path)"
      ],
      "execution_count": 0,
      "outputs": []
    },
    {
      "metadata": {
        "id": "yKYPkmbwKRCy",
        "colab_type": "code",
        "colab": {
          "base_uri": "https://localhost:8080/",
          "height": 72
        },
        "outputId": "10743c27-3de2-44e3-8eb5-3ee213fe3c04"
      },
      "cell_type": "code",
      "source": [
        "# Score trained model.\n",
        "scores = model.evaluate(x_test, y_test, verbose=1)\n",
        "print('Test loss:', scores[0])\n",
        "print('Test accuracy:', scores[1])"
      ],
      "execution_count": 30,
      "outputs": [
        {
          "output_type": "stream",
          "text": [
            "10000/10000 [==============================] - 2s 177us/step\n",
            "Test loss: 0.7656698852539062\n",
            "Test accuracy: 0.7374\n"
          ],
          "name": "stdout"
        }
      ]
    },
    {
      "metadata": {
        "id": "yV80kbuPN4Lf",
        "colab_type": "code",
        "colab": {}
      },
      "cell_type": "code",
      "source": [
        ""
      ],
      "execution_count": 0,
      "outputs": []
    }
  ]
}