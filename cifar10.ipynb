{
  "nbformat": 4,
  "nbformat_minor": 0,
  "metadata": {
    "colab": {
      "name": "cifar10.ipynb",
      "version": "0.3.2",
      "provenance": [],
      "collapsed_sections": []
    },
    "kernelspec": {
      "name": "python2",
      "display_name": "Python 2"
    },
    "accelerator": "GPU"
  },
  "cells": [
    {
      "cell_type": "markdown",
      "metadata": {
        "id": "view-in-github",
        "colab_type": "text"
      },
      "source": [
        "[View in Colaboratory](https://colab.research.google.com/github/nautilusPrime/cifar10-image-classifier/blob/master/cifar10.ipynb)"
      ]
    },
    {
      "metadata": {
        "id": "oue7VXqkI3Ia",
        "colab_type": "code",
        "colab": {
          "base_uri": "https://localhost:8080/",
          "height": 35
        },
        "outputId": "65e9fbf0-ba8d-4290-bed4-020c5a2aa286"
      },
      "cell_type": "code",
      "source": [
        "from __future__ import print_function\n",
        "import keras\n",
        "from keras.datasets import cifar10\n",
        "from keras.preprocessing.image import ImageDataGenerator\n",
        "from keras.models import Sequential\n",
        "from keras.layers import Dense, Dropout, Activation, Flatten, BatchNormalization\n",
        "from keras.layers import Conv2D, MaxPooling2D\n",
        "import os"
      ],
      "execution_count": 1,
      "outputs": [
        {
          "output_type": "stream",
          "text": [
            "Using TensorFlow backend.\n"
          ],
          "name": "stderr"
        }
      ]
    },
    {
      "metadata": {
        "id": "sBmT5avYJLj2",
        "colab_type": "code",
        "colab": {
          "base_uri": "https://localhost:8080/",
          "height": 17
        },
        "outputId": "4e73b504-a4a3-4327-937f-77a3c5f99383"
      },
      "cell_type": "code",
      "source": [
        "batch_size = 32\n",
        "num_classes = 10\n",
        "epochs = 100\n",
        "save_dir = os.path.join(os.getcwd(), 'saved_models')\n",
        "model_name = 'keras_cifar10_trained_model.h5'"
      ],
      "execution_count": 2,
      "outputs": []
    },
    {
      "metadata": {
        "id": "_W4drVHwJNuX",
        "colab_type": "code",
        "colab": {
          "base_uri": "https://localhost:8080/",
          "height": 128
        },
        "outputId": "1736b898-7167-4774-b079-3f3d63c1cdde"
      },
      "cell_type": "code",
      "source": [
        "# The data, split between train and test sets:\n",
        "(x_train, y_train), (x_test, y_test) = cifar10.load_data()\n",
        "print('x_train shape:', x_train.shape)\n",
        "print(x_train.shape[0], 'train samples')\n",
        "print(x_test.shape[0], 'test samples')\n",
        "# Convert class vectors to binary class matrices.\n",
        "y_train = keras.utils.to_categorical(y_train, num_classes)\n",
        "y_test = keras.utils.to_categorical(y_test, num_classes)"
      ],
      "execution_count": 3,
      "outputs": [
        {
          "output_type": "stream",
          "text": [
            "Downloading data from https://www.cs.toronto.edu/~kriz/cifar-10-python.tar.gz\n",
            "170500096/170498071 [==============================] - 23s 0us/step\n",
            "170508288/170498071 [==============================] - 23s 0us/step\n",
            "x_train shape: (50000, 32, 32, 3)\n",
            "50000 train samples\n",
            "10000 test samples\n"
          ],
          "name": "stdout"
        }
      ]
    },
    {
      "metadata": {
        "id": "yXCxfdiyJaB_",
        "colab_type": "code",
        "colab": {
          "base_uri": "https://localhost:8080/",
          "height": 17
        },
        "outputId": "f5fc99df-617d-4c60-933b-f3219c3b0b06"
      },
      "cell_type": "code",
      "source": [
        "# You can modify Model here.\n",
        "model = Sequential()\n",
        "model.add(Conv2D(32, (3, 3), padding='same',\n",
        "                 input_shape=x_train.shape[1:]))\n",
        "model.add(Activation('relu'))\n",
        "model.add(BatchNormalization())\n",
        "model.add(Conv2D(32, (3, 3)))\n",
        "model.add(Activation('relu'))\n",
        "model.add(BatchNormalization())\n",
        "model.add(MaxPooling2D(pool_size=(2, 2)))\n",
        "model.add(Dropout(0.25))\n",
        "\n",
        "model.add(Conv2D(64, (3, 3), padding='same'))\n",
        "model.add(Activation('relu'))\n",
        "model.add(BatchNormalization())\n",
        "model.add(Conv2D(64, (3, 3)))\n",
        "model.add(Activation('relu'))\n",
        "model.add(BatchNormalization())\n",
        "model.add(MaxPooling2D(pool_size=(2, 2)))\n",
        "model.add(Dropout(0.25))\n",
        "\n",
        "model.add(Flatten())\n",
        "model.add(Dense(512))\n",
        "model.add(Activation('relu'))\n",
        "model.add(Dropout(0.5))\n",
        "model.add(Dense(num_classes))\n",
        "model.add(Activation('softmax'))"
      ],
      "execution_count": 4,
      "outputs": []
    },
    {
      "metadata": {
        "id": "opbZf0QNJocP",
        "colab_type": "code",
        "colab": {
          "base_uri": "https://localhost:8080/",
          "height": 17
        },
        "outputId": "6288b271-0464-41c3-fda5-d834d889094f"
      },
      "cell_type": "code",
      "source": [
        "# initiate RMSprop optimizer\n",
        "opt = keras.optimizers.rmsprop(lr=0.0001, decay=1e-6)"
      ],
      "execution_count": 5,
      "outputs": []
    },
    {
      "metadata": {
        "id": "M-1woqDgJtQp",
        "colab_type": "code",
        "colab": {
          "base_uri": "https://localhost:8080/",
          "height": 17
        },
        "outputId": "a50c9326-f34d-4c0f-da89-b61cb951c856"
      },
      "cell_type": "code",
      "source": [
        "# Let's train the model using RMSprop\n",
        "model.compile(loss='categorical_crossentropy',\n",
        "              optimizer=opt,\n",
        "              metrics=['accuracy'])"
      ],
      "execution_count": 6,
      "outputs": []
    },
    {
      "metadata": {
        "id": "-meY7yvnJvuQ",
        "colab_type": "code",
        "colab": {
          "base_uri": "https://localhost:8080/",
          "height": 17
        },
        "outputId": "da322cba-0188-494c-c355-9ba66c4fb947"
      },
      "cell_type": "code",
      "source": [
        "x_train = x_train.astype('float16')\n",
        "x_test = x_test.astype('float16')\n",
        "x_train /= 255\n",
        "x_test /= 255"
      ],
      "execution_count": 7,
      "outputs": []
    },
    {
      "metadata": {
        "id": "ipbilvhJJ_yp",
        "colab_type": "code",
        "colab": {
          "base_uri": "https://localhost:8080/",
          "height": 17
        },
        "outputId": "de5a5bd1-d4d5-443f-b3bf-aee5d3cdb251"
      },
      "cell_type": "code",
      "source": [
        "data_augmentation = False"
      ],
      "execution_count": 9,
      "outputs": []
    },
    {
      "metadata": {
        "id": "VOyH2hLqJxlu",
        "colab_type": "code",
        "colab": {
          "base_uri": "https://localhost:8080/",
          "height": 3785
        },
        "outputId": "ae7bbcae-111c-4b0b-90b7-f2d62802b3d5"
      },
      "cell_type": "code",
      "source": [
        "if not data_augmentation:\n",
        "    print('Not using data augmentation.')\n",
        "    model.fit(x_train, y_train,\n",
        "              batch_size=batch_size,\n",
        "              epochs=epochs,\n",
        "              validation_data=(x_test, y_test),\n",
        "              shuffle=True)\n",
        "else:\n",
        "    print('Using real-time data augmentation.')\n",
        "    # This will do preprocessing and realtime data augmentation:\n",
        "    datagen = ImageDataGenerator(\n",
        "        featurewise_center=False,  # set input mean to 0 over the dataset\n",
        "        samplewise_center=False,  # set each sample mean to 0\n",
        "        featurewise_std_normalization=False,  # divide inputs by std of the dataset\n",
        "        samplewise_std_normalization=False,  # divide each input by its std\n",
        "        zca_whitening=False,  # apply ZCA whitening\n",
        "        rotation_range=0,  # randomly rotate images in the range (degrees, 0 to 180)\n",
        "        width_shift_range=0.1,  # randomly shift images horizontally (fraction of total width)\n",
        "        height_shift_range=0.1,  # randomly shift images vertically (fraction of total height)\n",
        "        horizontal_flip=True,  # randomly flip images\n",
        "        vertical_flip=False)  # randomly flip images\n",
        "\n",
        "    # Compute quantities required for feature-wise normalization\n",
        "    # (std, mean, and principal components if ZCA whitening is applied).\n",
        "    datagen.fit(x_train)\n",
        "\n",
        "    # Fit the model on the batches generated by datagen.flow().\n",
        "    model.fit_generator(datagen.flow(x_train, y_train, batch_size=batch_size), samples_per_epoch=len(x_train),\n",
        "                        epochs=epochs, validation_data=(x_test, y_test), workers=4)"
      ],
      "execution_count": 10,
      "outputs": [
        {
          "output_type": "stream",
          "text": [
            "Not using data augmentation.\n",
            "WARNING:tensorflow:Variable *= will be deprecated. Use variable.assign_mul if you want assignment to the variable value or 'x = x * y' if you want a new python Tensor object.\n",
            "Train on 50000 samples, validate on 10000 samples\n",
            "Epoch 1/100\n",
            "18144/50000 [=========>....................] - ETA: 31s - loss: 2.2600 - acc: 0.2816"
          ],
          "name": "stdout"
        },
        {
          "output_type": "stream",
          "text": [
            "50000/50000 [==============================] - 49s 984us/step - loss: 1.8795 - acc: 0.3627 - val_loss: 1.4051 - val_acc: 0.5056\n",
            "Epoch 2/100\n",
            "16544/50000 [========>.....................] - ETA: 29s - loss: 1.4944 - acc: 0.4659"
          ],
          "name": "stdout"
        },
        {
          "output_type": "stream",
          "text": [
            "50000/50000 [==============================] - 47s 942us/step - loss: 1.4447 - acc: 0.4892 - val_loss: 1.2232 - val_acc: 0.5690\n",
            "Epoch 3/100\n",
            "15968/50000 [========>.....................] - ETA: 30s - loss: 1.3365 - acc: 0.5301"
          ],
          "name": "stdout"
        },
        {
          "output_type": "stream",
          "text": [
            "50000/50000 [==============================] - 47s 937us/step - loss: 1.2994 - acc: 0.5462 - val_loss: 1.0819 - val_acc: 0.6193\n",
            "Epoch 4/100\n",
            "15776/50000 [========>.....................] - ETA: 30s - loss: 1.2118 - acc: 0.5809"
          ],
          "name": "stdout"
        },
        {
          "output_type": "stream",
          "text": [
            "50000/50000 [==============================] - 47s 938us/step - loss: 1.1944 - acc: 0.5857 - val_loss: 1.0393 - val_acc: 0.6294\n",
            "Epoch 5/100\n",
            "15712/50000 [========>.....................] - ETA: 30s - loss: 1.1197 - acc: 0.6099"
          ],
          "name": "stdout"
        },
        {
          "output_type": "stream",
          "text": [
            "50000/50000 [==============================] - 47s 937us/step - loss: 1.1048 - acc: 0.6167 - val_loss: 0.9838 - val_acc: 0.6550\n",
            "Epoch 6/100\n",
            "15648/50000 [========>.....................] - ETA: 30s - loss: 1.0744 - acc: 0.6261"
          ],
          "name": "stdout"
        },
        {
          "output_type": "stream",
          "text": [
            "50000/50000 [==============================] - 47s 940us/step - loss: 1.0357 - acc: 0.6381 - val_loss: 0.9285 - val_acc: 0.6736\n",
            "Epoch 7/100\n",
            "15648/50000 [========>.....................] - ETA: 30s - loss: 0.9832 - acc: 0.6616"
          ],
          "name": "stdout"
        },
        {
          "output_type": "stream",
          "text": [
            "50000/50000 [==============================] - 47s 948us/step - loss: 0.9782 - acc: 0.6592 - val_loss: 0.8632 - val_acc: 0.7013\n",
            "Epoch 8/100\n",
            "15648/50000 [========>.....................] - ETA: 30s - loss: 0.9384 - acc: 0.6750"
          ],
          "name": "stdout"
        },
        {
          "output_type": "stream",
          "text": [
            "50000/50000 [==============================] - 47s 932us/step - loss: 0.9290 - acc: 0.6774 - val_loss: 0.9178 - val_acc: 0.6767\n",
            "Epoch 9/100\n",
            "15648/50000 [========>.....................] - ETA: 30s - loss: 0.8928 - acc: 0.6880"
          ],
          "name": "stdout"
        },
        {
          "output_type": "stream",
          "text": [
            "50000/50000 [==============================] - 47s 946us/step - loss: 0.8831 - acc: 0.6931 - val_loss: 0.8201 - val_acc: 0.7186\n",
            "Epoch 10/100\n",
            "15584/50000 [========>.....................] - ETA: 31s - loss: 0.8425 - acc: 0.7093"
          ],
          "name": "stdout"
        },
        {
          "output_type": "stream",
          "text": [
            "50000/50000 [==============================] - 49s 972us/step - loss: 0.8425 - acc: 0.7091 - val_loss: 0.7737 - val_acc: 0.7331\n",
            "Epoch 11/100\n",
            "15520/50000 [========>.....................] - ETA: 31s - loss: 0.8027 - acc: 0.7212"
          ],
          "name": "stdout"
        },
        {
          "output_type": "stream",
          "text": [
            "50000/50000 [==============================] - 48s 970us/step - loss: 0.8063 - acc: 0.7223 - val_loss: 0.8040 - val_acc: 0.7210\n",
            "Epoch 12/100\n",
            "15520/50000 [========>.....................] - ETA: 31s - loss: 0.7603 - acc: 0.7336"
          ],
          "name": "stdout"
        },
        {
          "output_type": "stream",
          "text": [
            "50000/50000 [==============================] - 48s 969us/step - loss: 0.7715 - acc: 0.7315 - val_loss: 0.7456 - val_acc: 0.7400\n",
            "Epoch 13/100\n",
            "15456/50000 [========>.....................] - ETA: 31s - loss: 0.7440 - acc: 0.7444"
          ],
          "name": "stdout"
        },
        {
          "output_type": "stream",
          "text": [
            "50000/50000 [==============================] - 49s 981us/step - loss: 0.7459 - acc: 0.7418 - val_loss: 0.7213 - val_acc: 0.7552\n",
            "Epoch 14/100\n",
            "15520/50000 [========>.....................] - ETA: 31s - loss: 0.7216 - acc: 0.7521"
          ],
          "name": "stdout"
        },
        {
          "output_type": "stream",
          "text": [
            "50000/50000 [==============================] - 48s 969us/step - loss: 0.7131 - acc: 0.7534 - val_loss: 0.7269 - val_acc: 0.7484\n",
            "Epoch 15/100\n",
            "15520/50000 [========>.....................] - ETA: 31s - loss: 0.7008 - acc: 0.7540"
          ],
          "name": "stdout"
        },
        {
          "output_type": "stream",
          "text": [
            "50000/50000 [==============================] - 49s 973us/step - loss: 0.6932 - acc: 0.7580 - val_loss: 0.7033 - val_acc: 0.7517\n",
            "Epoch 16/100\n",
            "15520/50000 [========>.....................] - ETA: 31s - loss: 0.6713 - acc: 0.7679"
          ],
          "name": "stdout"
        },
        {
          "output_type": "stream",
          "text": [
            "50000/50000 [==============================] - 49s 971us/step - loss: 0.6745 - acc: 0.7660 - val_loss: 0.6835 - val_acc: 0.7628\n",
            "Epoch 17/100\n",
            "15520/50000 [========>.....................] - ETA: 32s - loss: 0.6408 - acc: 0.7775"
          ],
          "name": "stdout"
        },
        {
          "output_type": "stream",
          "text": [
            "50000/50000 [==============================] - 49s 983us/step - loss: 0.6474 - acc: 0.7737 - val_loss: 0.6750 - val_acc: 0.7666\n",
            "Epoch 18/100\n",
            "15520/50000 [========>.....................] - ETA: 32s - loss: 0.6163 - acc: 0.7836"
          ],
          "name": "stdout"
        },
        {
          "output_type": "stream",
          "text": [
            "50000/50000 [==============================] - 49s 980us/step - loss: 0.6278 - acc: 0.7821 - val_loss: 0.6883 - val_acc: 0.7627\n",
            "Epoch 19/100\n",
            "15456/50000 [========>.....................] - ETA: 31s - loss: 0.6080 - acc: 0.7883"
          ],
          "name": "stdout"
        },
        {
          "output_type": "stream",
          "text": [
            "50000/50000 [==============================] - 49s 970us/step - loss: 0.6125 - acc: 0.7862 - val_loss: 0.6667 - val_acc: 0.7685\n",
            "Epoch 20/100\n",
            "15520/50000 [========>.....................] - ETA: 31s - loss: 0.5795 - acc: 0.7928"
          ],
          "name": "stdout"
        },
        {
          "output_type": "stream",
          "text": [
            "50000/50000 [==============================] - 48s 968us/step - loss: 0.5898 - acc: 0.7943 - val_loss: 0.6352 - val_acc: 0.7791\n",
            "Epoch 21/100\n",
            "15520/50000 [========>.....................] - ETA: 32s - loss: 0.5829 - acc: 0.7967"
          ],
          "name": "stdout"
        },
        {
          "output_type": "stream",
          "text": [
            "50000/50000 [==============================] - 50s 999us/step - loss: 0.5854 - acc: 0.7958 - val_loss: 0.6866 - val_acc: 0.7668\n",
            "Epoch 22/100\n",
            "15392/50000 [========>.....................] - ETA: 31s - loss: 0.5593 - acc: 0.8093"
          ],
          "name": "stdout"
        },
        {
          "output_type": "stream",
          "text": [
            "50000/50000 [==============================] - 48s 967us/step - loss: 0.5663 - acc: 0.8042 - val_loss: 0.6333 - val_acc: 0.7820\n",
            "Epoch 23/100\n",
            "15456/50000 [========>.....................] - ETA: 31s - loss: 0.5442 - acc: 0.8092"
          ],
          "name": "stdout"
        },
        {
          "output_type": "stream",
          "text": [
            "50000/50000 [==============================] - 48s 963us/step - loss: 0.5539 - acc: 0.8069 - val_loss: 0.6247 - val_acc: 0.7860\n",
            "Epoch 24/100\n",
            "15520/50000 [========>.....................] - ETA: 31s - loss: 0.5325 - acc: 0.8157"
          ],
          "name": "stdout"
        },
        {
          "output_type": "stream",
          "text": [
            "50000/50000 [==============================] - 48s 954us/step - loss: 0.5386 - acc: 0.8134 - val_loss: 0.6340 - val_acc: 0.7850\n",
            "Epoch 25/100\n",
            "15520/50000 [========>.....................] - ETA: 30s - loss: 0.5167 - acc: 0.8223"
          ],
          "name": "stdout"
        },
        {
          "output_type": "stream",
          "text": [
            "50000/50000 [==============================] - 47s 938us/step - loss: 0.5264 - acc: 0.8172 - val_loss: 0.6660 - val_acc: 0.7761\n",
            "Epoch 26/100\n",
            "15520/50000 [========>.....................] - ETA: 30s - loss: 0.5050 - acc: 0.8217"
          ],
          "name": "stdout"
        },
        {
          "output_type": "stream",
          "text": [
            "50000/50000 [==============================] - 47s 941us/step - loss: 0.5147 - acc: 0.8198 - val_loss: 0.6171 - val_acc: 0.7910\n",
            "Epoch 27/100\n",
            "15520/50000 [========>.....................] - ETA: 30s - loss: 0.5080 - acc: 0.8235"
          ],
          "name": "stdout"
        },
        {
          "output_type": "stream",
          "text": [
            "50000/50000 [==============================] - 48s 951us/step - loss: 0.5017 - acc: 0.8255 - val_loss: 0.6511 - val_acc: 0.7816\n",
            "Epoch 28/100\n",
            "15520/50000 [========>.....................] - ETA: 31s - loss: 0.4850 - acc: 0.8288"
          ],
          "name": "stdout"
        },
        {
          "output_type": "stream",
          "text": [
            "50000/50000 [==============================] - 48s 968us/step - loss: 0.4869 - acc: 0.8312 - val_loss: 0.6340 - val_acc: 0.7892\n",
            "Epoch 29/100\n",
            "15520/50000 [========>.....................] - ETA: 31s - loss: 0.4732 - acc: 0.8377"
          ],
          "name": "stdout"
        },
        {
          "output_type": "stream",
          "text": [
            "50000/50000 [==============================] - 49s 971us/step - loss: 0.4790 - acc: 0.8336 - val_loss: 0.6100 - val_acc: 0.7899\n",
            "Epoch 30/100\n",
            "15520/50000 [========>.....................] - ETA: 31s - loss: 0.4526 - acc: 0.8405"
          ],
          "name": "stdout"
        },
        {
          "output_type": "stream",
          "text": [
            "50000/50000 [==============================] - 48s 969us/step - loss: 0.4628 - acc: 0.8377 - val_loss: 0.5892 - val_acc: 0.8042\n",
            "Epoch 31/100\n",
            "15520/50000 [========>.....................] - ETA: 31s - loss: 0.4478 - acc: 0.8395"
          ],
          "name": "stdout"
        },
        {
          "output_type": "stream",
          "text": [
            "50000/50000 [==============================] - 48s 955us/step - loss: 0.4615 - acc: 0.8390 - val_loss: 0.5889 - val_acc: 0.7985\n",
            "Epoch 32/100\n",
            "15520/50000 [========>.....................] - ETA: 30s - loss: 0.4408 - acc: 0.8484"
          ],
          "name": "stdout"
        },
        {
          "output_type": "stream",
          "text": [
            "50000/50000 [==============================] - 47s 944us/step - loss: 0.4484 - acc: 0.8444 - val_loss: 0.6146 - val_acc: 0.7924\n",
            "Epoch 33/100\n",
            "15520/50000 [========>.....................] - ETA: 30s - loss: 0.4318 - acc: 0.8483"
          ],
          "name": "stdout"
        },
        {
          "output_type": "stream",
          "text": [
            "50000/50000 [==============================] - 47s 941us/step - loss: 0.4439 - acc: 0.8447 - val_loss: 0.5909 - val_acc: 0.8061\n",
            "Epoch 34/100\n",
            "15520/50000 [========>.....................] - ETA: 30s - loss: 0.4252 - acc: 0.8498"
          ],
          "name": "stdout"
        },
        {
          "output_type": "stream",
          "text": [
            "50000/50000 [==============================] - 47s 945us/step - loss: 0.4300 - acc: 0.8496 - val_loss: 0.6167 - val_acc: 0.7905\n",
            "Epoch 35/100\n",
            "15520/50000 [========>.....................] - ETA: 31s - loss: 0.4194 - acc: 0.8543"
          ],
          "name": "stdout"
        },
        {
          "output_type": "stream",
          "text": [
            "50000/50000 [==============================] - 48s 961us/step - loss: 0.4228 - acc: 0.8543 - val_loss: 0.5918 - val_acc: 0.8024\n",
            "Epoch 36/100\n",
            "15520/50000 [========>.....................] - ETA: 31s - loss: 0.3964 - acc: 0.8623"
          ],
          "name": "stdout"
        },
        {
          "output_type": "stream",
          "text": [
            "50000/50000 [==============================] - 47s 945us/step - loss: 0.4153 - acc: 0.8556 - val_loss: 0.5976 - val_acc: 0.8021\n",
            "Epoch 37/100\n",
            "15520/50000 [========>.....................] - ETA: 30s - loss: 0.4046 - acc: 0.8598"
          ],
          "name": "stdout"
        },
        {
          "output_type": "stream",
          "text": [
            "50000/50000 [==============================] - 47s 938us/step - loss: 0.4067 - acc: 0.8580 - val_loss: 0.6362 - val_acc: 0.7925\n",
            "Epoch 38/100\n",
            "15520/50000 [========>.....................] - ETA: 30s - loss: 0.3922 - acc: 0.8637"
          ],
          "name": "stdout"
        },
        {
          "output_type": "stream",
          "text": [
            "50000/50000 [==============================] - 47s 941us/step - loss: 0.3990 - acc: 0.8616 - val_loss: 0.5976 - val_acc: 0.8016\n",
            "Epoch 39/100\n",
            "15520/50000 [========>.....................] - ETA: 30s - loss: 0.3878 - acc: 0.8644"
          ],
          "name": "stdout"
        },
        {
          "output_type": "stream",
          "text": [
            "50000/50000 [==============================] - 47s 936us/step - loss: 0.3954 - acc: 0.8627 - val_loss: 0.6311 - val_acc: 0.7945\n",
            "Epoch 40/100\n",
            "15520/50000 [========>.....................] - ETA: 31s - loss: 0.3895 - acc: 0.8637"
          ],
          "name": "stdout"
        },
        {
          "output_type": "stream",
          "text": [
            "50000/50000 [==============================] - 47s 941us/step - loss: 0.3878 - acc: 0.8643 - val_loss: 0.5942 - val_acc: 0.8083\n",
            "Epoch 41/100\n",
            "15552/50000 [========>.....................] - ETA: 30s - loss: 0.3724 - acc: 0.8725"
          ],
          "name": "stdout"
        },
        {
          "output_type": "stream",
          "text": [
            "50000/50000 [==============================] - 47s 934us/step - loss: 0.3821 - acc: 0.8670 - val_loss: 0.5906 - val_acc: 0.8075\n",
            "Epoch 42/100\n",
            "15520/50000 [========>.....................] - ETA: 30s - loss: 0.3676 - acc: 0.8697"
          ],
          "name": "stdout"
        },
        {
          "output_type": "stream",
          "text": [
            "50000/50000 [==============================] - 47s 931us/step - loss: 0.3728 - acc: 0.8693 - val_loss: 0.5950 - val_acc: 0.8089\n",
            "Epoch 43/100\n",
            "15456/50000 [========>.....................] - ETA: 30s - loss: 0.3527 - acc: 0.8758"
          ],
          "name": "stdout"
        },
        {
          "output_type": "stream",
          "text": [
            "50000/50000 [==============================] - 47s 937us/step - loss: 0.3607 - acc: 0.8745 - val_loss: 0.5824 - val_acc: 0.8083\n",
            "Epoch 44/100\n",
            "15520/50000 [========>.....................] - ETA: 30s - loss: 0.3589 - acc: 0.8757"
          ],
          "name": "stdout"
        },
        {
          "output_type": "stream",
          "text": [
            "50000/50000 [==============================] - 46s 930us/step - loss: 0.3629 - acc: 0.8740 - val_loss: 0.6242 - val_acc: 0.8039\n",
            "Epoch 45/100\n",
            "15488/50000 [========>.....................] - ETA: 30s - loss: 0.3464 - acc: 0.8781"
          ],
          "name": "stdout"
        },
        {
          "output_type": "stream",
          "text": [
            "50000/50000 [==============================] - 47s 939us/step - loss: 0.3532 - acc: 0.8761 - val_loss: 0.5898 - val_acc: 0.8119\n",
            "Epoch 46/100\n",
            "15552/50000 [========>.....................] - ETA: 30s - loss: 0.3390 - acc: 0.8814"
          ],
          "name": "stdout"
        },
        {
          "output_type": "stream",
          "text": [
            "50000/50000 [==============================] - 47s 941us/step - loss: 0.3486 - acc: 0.8787 - val_loss: 0.5991 - val_acc: 0.8080\n",
            "Epoch 47/100\n",
            "15520/50000 [========>.....................] - ETA: 30s - loss: 0.3302 - acc: 0.8844"
          ],
          "name": "stdout"
        },
        {
          "output_type": "stream",
          "text": [
            "50000/50000 [==============================] - 47s 937us/step - loss: 0.3386 - acc: 0.8817 - val_loss: 0.5848 - val_acc: 0.8152\n",
            "Epoch 48/100\n",
            "15616/50000 [========>.....................] - ETA: 30s - loss: 0.3307 - acc: 0.8813"
          ],
          "name": "stdout"
        },
        {
          "output_type": "stream",
          "text": [
            "50000/50000 [==============================] - 47s 939us/step - loss: 0.3359 - acc: 0.8823 - val_loss: 0.5918 - val_acc: 0.8110\n",
            "Epoch 49/100\n",
            "15520/50000 [========>.....................] - ETA: 30s - loss: 0.3365 - acc: 0.8817"
          ],
          "name": "stdout"
        },
        {
          "output_type": "stream",
          "text": [
            "50000/50000 [==============================] - 47s 942us/step - loss: 0.3381 - acc: 0.8825 - val_loss: 0.6220 - val_acc: 0.8084\n",
            "Epoch 50/100\n",
            "15520/50000 [========>.....................] - ETA: 30s - loss: 0.3127 - acc: 0.8915"
          ],
          "name": "stdout"
        },
        {
          "output_type": "stream",
          "text": [
            "50000/50000 [==============================] - 47s 935us/step - loss: 0.3263 - acc: 0.8863 - val_loss: 0.5923 - val_acc: 0.8153\n",
            "Epoch 51/100\n",
            "15552/50000 [========>.....................] - ETA: 30s - loss: 0.3173 - acc: 0.8913"
          ],
          "name": "stdout"
        },
        {
          "output_type": "stream",
          "text": [
            "50000/50000 [==============================] - 47s 940us/step - loss: 0.3203 - acc: 0.8887 - val_loss: 0.5805 - val_acc: 0.8111\n",
            "Epoch 52/100\n",
            "15552/50000 [========>.....................] - ETA: 30s - loss: 0.3132 - acc: 0.8925"
          ],
          "name": "stdout"
        },
        {
          "output_type": "stream",
          "text": [
            "50000/50000 [==============================] - 47s 937us/step - loss: 0.3201 - acc: 0.8896 - val_loss: 0.5800 - val_acc: 0.8147\n",
            "Epoch 53/100\n",
            "15520/50000 [========>.....................] - ETA: 31s - loss: 0.3127 - acc: 0.8919"
          ],
          "name": "stdout"
        },
        {
          "output_type": "stream",
          "text": [
            "50000/50000 [==============================] - 47s 942us/step - loss: 0.3153 - acc: 0.8911 - val_loss: 0.5936 - val_acc: 0.8150\n",
            "Epoch 54/100\n",
            "15520/50000 [========>.....................] - ETA: 30s - loss: 0.2949 - acc: 0.8968"
          ],
          "name": "stdout"
        },
        {
          "output_type": "stream",
          "text": [
            "50000/50000 [==============================] - 47s 935us/step - loss: 0.3099 - acc: 0.8915 - val_loss: 0.6029 - val_acc: 0.8142\n",
            "Epoch 55/100\n",
            "15520/50000 [========>.....................] - ETA: 30s - loss: 0.2970 - acc: 0.8953"
          ],
          "name": "stdout"
        },
        {
          "output_type": "stream",
          "text": [
            "50000/50000 [==============================] - 46s 929us/step - loss: 0.3067 - acc: 0.8928 - val_loss: 0.6103 - val_acc: 0.8120\n",
            "Epoch 56/100\n",
            "15520/50000 [========>.....................] - ETA: 30s - loss: 0.3004 - acc: 0.8941"
          ],
          "name": "stdout"
        },
        {
          "output_type": "stream",
          "text": [
            "50000/50000 [==============================] - 47s 930us/step - loss: 0.3045 - acc: 0.8940 - val_loss: 0.5937 - val_acc: 0.8129\n",
            "Epoch 57/100\n",
            "15520/50000 [========>.....................] - ETA: 30s - loss: 0.2977 - acc: 0.8959"
          ],
          "name": "stdout"
        },
        {
          "output_type": "stream",
          "text": [
            "50000/50000 [==============================] - 47s 931us/step - loss: 0.2950 - acc: 0.8972 - val_loss: 0.5906 - val_acc: 0.8114\n",
            "Epoch 58/100\n",
            "15584/50000 [========>.....................] - ETA: 29s - loss: 0.2838 - acc: 0.9050"
          ],
          "name": "stdout"
        },
        {
          "output_type": "stream",
          "text": [
            "50000/50000 [==============================] - 46s 924us/step - loss: 0.2915 - acc: 0.8996 - val_loss: 0.6291 - val_acc: 0.8109\n",
            "Epoch 59/100\n",
            "15552/50000 [========>.....................] - ETA: 30s - loss: 0.2827 - acc: 0.8998"
          ],
          "name": "stdout"
        },
        {
          "output_type": "stream",
          "text": [
            "50000/50000 [==============================] - 47s 932us/step - loss: 0.2923 - acc: 0.8976 - val_loss: 0.6213 - val_acc: 0.8101\n",
            "Epoch 60/100\n",
            "15552/50000 [========>.....................] - ETA: 30s - loss: 0.2902 - acc: 0.8987"
          ],
          "name": "stdout"
        },
        {
          "output_type": "stream",
          "text": [
            "50000/50000 [==============================] - 46s 929us/step - loss: 0.2926 - acc: 0.8981 - val_loss: 0.5947 - val_acc: 0.8144\n",
            "Epoch 61/100\n",
            "15520/50000 [========>.....................] - ETA: 30s - loss: 0.2710 - acc: 0.9050"
          ],
          "name": "stdout"
        },
        {
          "output_type": "stream",
          "text": [
            "50000/50000 [==============================] - 47s 931us/step - loss: 0.2842 - acc: 0.8993 - val_loss: 0.5912 - val_acc: 0.8126\n",
            "Epoch 62/100\n",
            "15520/50000 [========>.....................] - ETA: 30s - loss: 0.2825 - acc: 0.8993"
          ],
          "name": "stdout"
        },
        {
          "output_type": "stream",
          "text": [
            "50000/50000 [==============================] - 47s 931us/step - loss: 0.2803 - acc: 0.9019 - val_loss: 0.6299 - val_acc: 0.8085\n",
            "Epoch 63/100\n",
            "15520/50000 [========>.....................] - ETA: 30s - loss: 0.2608 - acc: 0.9111"
          ],
          "name": "stdout"
        },
        {
          "output_type": "stream",
          "text": [
            "50000/50000 [==============================] - 46s 930us/step - loss: 0.2757 - acc: 0.9055 - val_loss: 0.6088 - val_acc: 0.8132\n",
            "Epoch 64/100\n",
            "15520/50000 [========>.....................] - ETA: 30s - loss: 0.2682 - acc: 0.9070"
          ],
          "name": "stdout"
        },
        {
          "output_type": "stream",
          "text": [
            "50000/50000 [==============================] - 47s 930us/step - loss: 0.2781 - acc: 0.9033 - val_loss: 0.6055 - val_acc: 0.8155\n",
            "Epoch 65/100\n",
            "15520/50000 [========>.....................] - ETA: 30s - loss: 0.2647 - acc: 0.9096"
          ],
          "name": "stdout"
        },
        {
          "output_type": "stream",
          "text": [
            "50000/50000 [==============================] - 46s 930us/step - loss: 0.2774 - acc: 0.9053 - val_loss: 0.5980 - val_acc: 0.8112\n",
            "Epoch 66/100\n",
            "15520/50000 [========>.....................] - ETA: 30s - loss: 0.2583 - acc: 0.9123"
          ],
          "name": "stdout"
        },
        {
          "output_type": "stream",
          "text": [
            "50000/50000 [==============================] - 47s 932us/step - loss: 0.2677 - acc: 0.9070 - val_loss: 0.6187 - val_acc: 0.8167\n",
            "Epoch 67/100\n",
            "15520/50000 [========>.....................] - ETA: 30s - loss: 0.2637 - acc: 0.9079"
          ],
          "name": "stdout"
        },
        {
          "output_type": "stream",
          "text": [
            "50000/50000 [==============================] - 46s 930us/step - loss: 0.2668 - acc: 0.9074 - val_loss: 0.5892 - val_acc: 0.8183\n",
            "Epoch 68/100\n",
            "15552/50000 [========>.....................] - ETA: 29s - loss: 0.2558 - acc: 0.9086"
          ],
          "name": "stdout"
        },
        {
          "output_type": "stream",
          "text": [
            "50000/50000 [==============================] - 46s 929us/step - loss: 0.2664 - acc: 0.9068 - val_loss: 0.5999 - val_acc: 0.8149\n",
            "Epoch 69/100\n",
            "15520/50000 [========>.....................] - ETA: 29s - loss: 0.2500 - acc: 0.9134"
          ],
          "name": "stdout"
        },
        {
          "output_type": "stream",
          "text": [
            "50000/50000 [==============================] - 46s 926us/step - loss: 0.2617 - acc: 0.9093 - val_loss: 0.6340 - val_acc: 0.8152\n",
            "Epoch 70/100\n",
            "15584/50000 [========>.....................] - ETA: 29s - loss: 0.2596 - acc: 0.9122"
          ],
          "name": "stdout"
        },
        {
          "output_type": "stream",
          "text": [
            "50000/50000 [==============================] - 46s 923us/step - loss: 0.2616 - acc: 0.9101 - val_loss: 0.6044 - val_acc: 0.8116\n",
            "Epoch 71/100\n",
            "15520/50000 [========>.....................] - ETA: 29s - loss: 0.2464 - acc: 0.9137"
          ],
          "name": "stdout"
        },
        {
          "output_type": "stream",
          "text": [
            "50000/50000 [==============================] - 46s 929us/step - loss: 0.2532 - acc: 0.9117 - val_loss: 0.6405 - val_acc: 0.8135\n",
            "Epoch 72/100\n",
            "15520/50000 [========>.....................] - ETA: 30s - loss: 0.2426 - acc: 0.9167"
          ],
          "name": "stdout"
        },
        {
          "output_type": "stream",
          "text": [
            "50000/50000 [==============================] - 46s 927us/step - loss: 0.2553 - acc: 0.9115 - val_loss: 0.6200 - val_acc: 0.8185\n",
            "Epoch 73/100\n",
            "15520/50000 [========>.....................] - ETA: 30s - loss: 0.2429 - acc: 0.9157"
          ],
          "name": "stdout"
        },
        {
          "output_type": "stream",
          "text": [
            "50000/50000 [==============================] - 46s 928us/step - loss: 0.2507 - acc: 0.9118 - val_loss: 0.6475 - val_acc: 0.8172\n",
            "Epoch 74/100\n",
            "15552/50000 [========>.....................] - ETA: 30s - loss: 0.2585 - acc: 0.9102"
          ],
          "name": "stdout"
        },
        {
          "output_type": "stream",
          "text": [
            "50000/50000 [==============================] - 47s 931us/step - loss: 0.2529 - acc: 0.9119 - val_loss: 0.6171 - val_acc: 0.8168\n",
            "Epoch 75/100\n",
            "15520/50000 [========>.....................] - ETA: 30s - loss: 0.2396 - acc: 0.9164"
          ],
          "name": "stdout"
        },
        {
          "output_type": "stream",
          "text": [
            "50000/50000 [==============================] - 47s 936us/step - loss: 0.2477 - acc: 0.9131 - val_loss: 0.6288 - val_acc: 0.8107\n",
            "Epoch 76/100\n",
            "15520/50000 [========>.....................] - ETA: 30s - loss: 0.2416 - acc: 0.9162"
          ],
          "name": "stdout"
        },
        {
          "output_type": "stream",
          "text": [
            "50000/50000 [==============================] - 47s 946us/step - loss: 0.2459 - acc: 0.9157 - val_loss: 0.6208 - val_acc: 0.8178\n",
            "Epoch 77/100\n",
            "15520/50000 [========>.....................] - ETA: 30s - loss: 0.2457 - acc: 0.9166"
          ],
          "name": "stdout"
        },
        {
          "output_type": "stream",
          "text": [
            "50000/50000 [==============================] - 47s 945us/step - loss: 0.2451 - acc: 0.9144 - val_loss: 0.6432 - val_acc: 0.8179\n",
            "Epoch 78/100\n",
            "15520/50000 [========>.....................] - ETA: 30s - loss: 0.2306 - acc: 0.9206"
          ],
          "name": "stdout"
        },
        {
          "output_type": "stream",
          "text": [
            "50000/50000 [==============================] - 47s 949us/step - loss: 0.2421 - acc: 0.9162 - val_loss: 0.5971 - val_acc: 0.8133\n",
            "Epoch 79/100\n",
            "15520/50000 [========>.....................] - ETA: 30s - loss: 0.2325 - acc: 0.9181"
          ],
          "name": "stdout"
        },
        {
          "output_type": "stream",
          "text": [
            "50000/50000 [==============================] - 47s 949us/step - loss: 0.2443 - acc: 0.9159 - val_loss: 0.6456 - val_acc: 0.8118\n",
            "Epoch 80/100\n",
            "15520/50000 [========>.....................] - ETA: 30s - loss: 0.2377 - acc: 0.9180"
          ],
          "name": "stdout"
        },
        {
          "output_type": "stream",
          "text": [
            "50000/50000 [==============================] - 47s 940us/step - loss: 0.2391 - acc: 0.9188 - val_loss: 0.6187 - val_acc: 0.8165\n",
            "Epoch 81/100\n",
            "15520/50000 [========>.....................] - ETA: 30s - loss: 0.2389 - acc: 0.9200"
          ],
          "name": "stdout"
        },
        {
          "output_type": "stream",
          "text": [
            "50000/50000 [==============================] - 47s 941us/step - loss: 0.2402 - acc: 0.9179 - val_loss: 0.6084 - val_acc: 0.8210\n",
            "Epoch 82/100\n",
            "15520/50000 [========>.....................] - ETA: 30s - loss: 0.2347 - acc: 0.9204"
          ],
          "name": "stdout"
        },
        {
          "output_type": "stream",
          "text": [
            "50000/50000 [==============================] - 47s 939us/step - loss: 0.2330 - acc: 0.9196 - val_loss: 0.6232 - val_acc: 0.8207\n",
            "Epoch 83/100\n",
            "15520/50000 [========>.....................] - ETA: 30s - loss: 0.2291 - acc: 0.9182"
          ],
          "name": "stdout"
        },
        {
          "output_type": "stream",
          "text": [
            "50000/50000 [==============================] - 47s 941us/step - loss: 0.2305 - acc: 0.9191 - val_loss: 0.6399 - val_acc: 0.8115\n",
            "Epoch 84/100\n",
            "15520/50000 [========>.....................] - ETA: 30s - loss: 0.2247 - acc: 0.9229"
          ],
          "name": "stdout"
        },
        {
          "output_type": "stream",
          "text": [
            "50000/50000 [==============================] - 47s 932us/step - loss: 0.2253 - acc: 0.9224 - val_loss: 0.6527 - val_acc: 0.8129\n",
            "Epoch 85/100\n",
            "15520/50000 [========>.....................] - ETA: 30s - loss: 0.2206 - acc: 0.9214"
          ],
          "name": "stdout"
        },
        {
          "output_type": "stream",
          "text": [
            "50000/50000 [==============================] - 47s 934us/step - loss: 0.2265 - acc: 0.9203 - val_loss: 0.6297 - val_acc: 0.8188\n",
            "Epoch 86/100\n",
            "15520/50000 [========>.....................] - ETA: 30s - loss: 0.2159 - acc: 0.9247"
          ],
          "name": "stdout"
        },
        {
          "output_type": "stream",
          "text": [
            "50000/50000 [==============================] - 47s 930us/step - loss: 0.2258 - acc: 0.9227 - val_loss: 0.6206 - val_acc: 0.8172\n",
            "Epoch 87/100\n",
            "15520/50000 [========>.....................] - ETA: 30s - loss: 0.2151 - acc: 0.9262"
          ],
          "name": "stdout"
        },
        {
          "output_type": "stream",
          "text": [
            "50000/50000 [==============================] - 47s 934us/step - loss: 0.2249 - acc: 0.9217 - val_loss: 0.6253 - val_acc: 0.8130\n",
            "Epoch 88/100\n",
            "15520/50000 [========>.....................] - ETA: 30s - loss: 0.2054 - acc: 0.9288"
          ],
          "name": "stdout"
        },
        {
          "output_type": "stream",
          "text": [
            "50000/50000 [==============================] - 46s 930us/step - loss: 0.2193 - acc: 0.9238 - val_loss: 0.6431 - val_acc: 0.8157\n",
            "Epoch 89/100\n",
            "15552/50000 [========>.....................] - ETA: 30s - loss: 0.2110 - acc: 0.9271"
          ],
          "name": "stdout"
        },
        {
          "output_type": "stream",
          "text": [
            "50000/50000 [==============================] - 47s 931us/step - loss: 0.2214 - acc: 0.9245 - val_loss: 0.6523 - val_acc: 0.8147\n",
            "Epoch 90/100\n",
            "15520/50000 [========>.....................] - ETA: 30s - loss: 0.2130 - acc: 0.9291"
          ],
          "name": "stdout"
        },
        {
          "output_type": "stream",
          "text": [
            "50000/50000 [==============================] - 46s 929us/step - loss: 0.2192 - acc: 0.9256 - val_loss: 0.6465 - val_acc: 0.8193\n",
            "Epoch 91/100\n",
            "15520/50000 [========>.....................] - ETA: 30s - loss: 0.2141 - acc: 0.9260"
          ],
          "name": "stdout"
        },
        {
          "output_type": "stream",
          "text": [
            "50000/50000 [==============================] - 47s 933us/step - loss: 0.2190 - acc: 0.9239 - val_loss: 0.6486 - val_acc: 0.8176\n",
            "Epoch 92/100\n",
            "15456/50000 [========>.....................] - ETA: 30s - loss: 0.2102 - acc: 0.9280"
          ],
          "name": "stdout"
        },
        {
          "output_type": "stream",
          "text": [
            "50000/50000 [==============================] - 46s 928us/step - loss: 0.2143 - acc: 0.9257 - val_loss: 0.6394 - val_acc: 0.8173\n",
            "Epoch 93/100\n",
            "15520/50000 [========>.....................] - ETA: 30s - loss: 0.2080 - acc: 0.9282"
          ],
          "name": "stdout"
        },
        {
          "output_type": "stream",
          "text": [
            "50000/50000 [==============================] - 46s 925us/step - loss: 0.2126 - acc: 0.9273 - val_loss: 0.6454 - val_acc: 0.8169\n",
            "Epoch 94/100\n",
            "15520/50000 [========>.....................] - ETA: 30s - loss: 0.2123 - acc: 0.9272"
          ],
          "name": "stdout"
        },
        {
          "output_type": "stream",
          "text": [
            "50000/50000 [==============================] - 46s 928us/step - loss: 0.2139 - acc: 0.9265 - val_loss: 0.6305 - val_acc: 0.8134\n",
            "Epoch 95/100\n",
            "15520/50000 [========>.....................] - ETA: 30s - loss: 0.2053 - acc: 0.9293"
          ],
          "name": "stdout"
        },
        {
          "output_type": "stream",
          "text": [
            "50000/50000 [==============================] - 46s 927us/step - loss: 0.2092 - acc: 0.9287 - val_loss: 0.6193 - val_acc: 0.8168\n",
            "Epoch 96/100\n",
            "15520/50000 [========>.....................] - ETA: 30s - loss: 0.2088 - acc: 0.9288"
          ],
          "name": "stdout"
        },
        {
          "output_type": "stream",
          "text": [
            "50000/50000 [==============================] - 47s 933us/step - loss: 0.2080 - acc: 0.9286 - val_loss: 0.6488 - val_acc: 0.8205\n",
            "Epoch 97/100\n",
            "15520/50000 [========>.....................] - ETA: 30s - loss: 0.1954 - acc: 0.9334"
          ],
          "name": "stdout"
        },
        {
          "output_type": "stream",
          "text": [
            "50000/50000 [==============================] - 47s 942us/step - loss: 0.2074 - acc: 0.9294 - val_loss: 0.6374 - val_acc: 0.8162\n",
            "Epoch 98/100\n",
            "15520/50000 [========>.....................] - ETA: 31s - loss: 0.1956 - acc: 0.9314"
          ],
          "name": "stdout"
        },
        {
          "output_type": "stream",
          "text": [
            "50000/50000 [==============================] - 47s 949us/step - loss: 0.2050 - acc: 0.9298 - val_loss: 0.6621 - val_acc: 0.8186\n",
            "Epoch 99/100\n",
            "15520/50000 [========>.....................] - ETA: 30s - loss: 0.1936 - acc: 0.9312"
          ],
          "name": "stdout"
        },
        {
          "output_type": "stream",
          "text": [
            "50000/50000 [==============================] - 47s 944us/step - loss: 0.2043 - acc: 0.9296 - val_loss: 0.6621 - val_acc: 0.8168\n",
            "Epoch 100/100\n",
            "15456/50000 [========>.....................] - ETA: 30s - loss: 0.2069 - acc: 0.9303"
          ],
          "name": "stdout"
        },
        {
          "output_type": "stream",
          "text": [
            "50000/50000 [==============================] - 48s 951us/step - loss: 0.2050 - acc: 0.9297 - val_loss: 0.6679 - val_acc: 0.8141\n"
          ],
          "name": "stdout"
        }
      ]
    },
    {
      "metadata": {
        "id": "41ukEJ0pOf2_",
        "colab_type": "code",
        "colab": {}
      },
      "cell_type": "code",
      "source": [
        "from google.colab import files "
      ],
      "execution_count": 0,
      "outputs": []
    },
    {
      "metadata": {
        "id": "rFXKKMK6KCnx",
        "colab_type": "code",
        "colab": {
          "base_uri": "https://localhost:8080/",
          "height": 35
        },
        "outputId": "e8b20f0d-ead9-4d0d-9d4b-3a909e7b6b64"
      },
      "cell_type": "code",
      "source": [
        "# Save model and weights\n",
        "if not os.path.isdir(save_dir):\n",
        "    os.makedirs(save_dir)\n",
        "model_path = os.path.join(save_dir, model_name)\n",
        "model.save(model_path)\n",
        "print('Saved trained model at %s ' % model_path)"
      ],
      "execution_count": 0,
      "outputs": [
        {
          "output_type": "stream",
          "text": [
            "Saved trained model at /content/saved_models/keras_cifar10_trained_model.h5 \n"
          ],
          "name": "stdout"
        }
      ]
    },
    {
      "metadata": {
        "id": "y74exG9iOvH2",
        "colab_type": "code",
        "colab": {}
      },
      "cell_type": "code",
      "source": [
        "files.download(model_path)"
      ],
      "execution_count": 0,
      "outputs": []
    },
    {
      "metadata": {
        "id": "yKYPkmbwKRCy",
        "colab_type": "code",
        "colab": {
          "base_uri": "https://localhost:8080/",
          "height": 72
        },
        "outputId": "f6552724-92ba-4b54-bb53-8c2d39689f13"
      },
      "cell_type": "code",
      "source": [
        "# Score trained model.\n",
        "scores = model.evaluate(x_test, y_test, verbose=1)\n",
        "print('Test loss:', scores[0])\n",
        "print('Test accuracy:', scores[1])"
      ],
      "execution_count": 11,
      "outputs": [
        {
          "output_type": "stream",
          "text": [
            "10000/10000 [==============================] - 3s 284us/step\n",
            "Test loss: 0.6678660587310791\n",
            "Test accuracy: 0.8141\n"
          ],
          "name": "stdout"
        }
      ]
    },
    {
      "metadata": {
        "id": "yV80kbuPN4Lf",
        "colab_type": "code",
        "colab": {}
      },
      "cell_type": "code",
      "source": [
        ""
      ],
      "execution_count": 0,
      "outputs": []
    }
  ]
}