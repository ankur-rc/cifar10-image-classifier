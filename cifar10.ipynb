{
  "nbformat": 4,
  "nbformat_minor": 0,
  "metadata": {
    "colab": {
      "name": "cifar10.ipynb",
      "version": "0.3.2",
      "provenance": [],
      "collapsed_sections": []
    },
    "kernelspec": {
      "name": "python2",
      "display_name": "Python 2"
    },
    "accelerator": "GPU"
  },
  "cells": [
    {
      "cell_type": "markdown",
      "metadata": {
        "id": "view-in-github",
        "colab_type": "text"
      },
      "source": [
        "[View in Colaboratory](https://colab.research.google.com/github/nautilusPrime/cifar10-image-classifier/blob/master/cifar10.ipynb)"
      ]
    },
    {
      "metadata": {
        "id": "oue7VXqkI3Ia",
        "colab_type": "code",
        "colab": {
          "base_uri": "https://localhost:8080/",
          "height": 35
        },
        "outputId": "ec245cf7-f1c6-48b1-c334-55ccadb77219"
      },
      "cell_type": "code",
      "source": [
        "from __future__ import print_function\n",
        "import keras\n",
        "from keras.datasets import cifar10\n",
        "from keras.preprocessing.image import ImageDataGenerator\n",
        "from keras.models import Sequential\n",
        "from keras.layers import Dense, Dropout, Activation, Flatten, BatchNormalization\n",
        "from keras.layers import Conv2D, MaxPooling2D\n",
        "import os"
      ],
      "execution_count": 1,
      "outputs": [
        {
          "output_type": "stream",
          "text": [
            "Using TensorFlow backend.\n"
          ],
          "name": "stderr"
        }
      ]
    },
    {
      "metadata": {
        "id": "sBmT5avYJLj2",
        "colab_type": "code",
        "colab": {}
      },
      "cell_type": "code",
      "source": [
        "batch_size = 32\n",
        "num_classes = 10\n",
        "epochs = 20\n",
        "save_dir = os.path.join(os.getcwd(), 'saved_models')\n",
        "model_name = 'keras_cifar10_trained_model.h5'"
      ],
      "execution_count": 0,
      "outputs": []
    },
    {
      "metadata": {
        "id": "_W4drVHwJNuX",
        "colab_type": "code",
        "colab": {
          "base_uri": "https://localhost:8080/",
          "height": 128
        },
        "outputId": "84c9f8f1-5f8c-4fc1-a8c1-c82b0f1f3c5b"
      },
      "cell_type": "code",
      "source": [
        "# The data, split between train and test sets:\n",
        "(x_train, y_train), (x_test, y_test) = cifar10.load_data()\n",
        "print('x_train shape:', x_train.shape)\n",
        "print(x_train.shape[0], 'train samples')\n",
        "print(x_test.shape[0], 'test samples')\n",
        "# Convert class vectors to binary class matrices.\n",
        "y_train = keras.utils.to_categorical(y_train, num_classes)\n",
        "y_test = keras.utils.to_categorical(y_test, num_classes)"
      ],
      "execution_count": 3,
      "outputs": [
        {
          "output_type": "stream",
          "text": [
            "Downloading data from https://www.cs.toronto.edu/~kriz/cifar-10-python.tar.gz\n",
            "170500096/170498071 [==============================] - 29s 0us/step\n",
            "170508288/170498071 [==============================] - 29s 0us/step\n",
            "x_train shape: (50000, 32, 32, 3)\n",
            "50000 train samples\n",
            "10000 test samples\n"
          ],
          "name": "stdout"
        }
      ]
    },
    {
      "metadata": {
        "id": "yXCxfdiyJaB_",
        "colab_type": "code",
        "colab": {}
      },
      "cell_type": "code",
      "source": [
        "# You can modify Model here.\n",
        "model = Sequential()\n",
        "model.add(Conv2D(32, (3, 3), padding='same',\n",
        "                 input_shape=x_train.shape[1:]))\n",
        "model.add(Activation('relu'))\n",
        "model.add(BatchNormalization())\n",
        "model.add(Conv2D(32, (3, 3)))\n",
        "model.add(Activation('relu'))\n",
        "model.add(BatchNormalization())\n",
        "model.add(MaxPooling2D(pool_size=(2, 2)))\n",
        "model.add(Dropout(0.25))\n",
        "\n",
        "model.add(Conv2D(64, (3, 3), padding='same'))\n",
        "model.add(Activation('relu'))\n",
        "model.add(BatchNormalization())\n",
        "model.add(Conv2D(64, (3, 3)))\n",
        "model.add(Activation('relu'))\n",
        "model.add(BatchNormalization())\n",
        "model.add(MaxPooling2D(pool_size=(2, 2)))\n",
        "model.add(Dropout(0.25))\n",
        "\n",
        "model.add(Flatten())\n",
        "model.add(Dense(512))\n",
        "model.add(Activation('relu'))\n",
        "model.add(Dropout(0.5))\n",
        "model.add(Dense(num_classes))\n",
        "model.add(Activation('softmax'))"
      ],
      "execution_count": 0,
      "outputs": []
    },
    {
      "metadata": {
        "id": "opbZf0QNJocP",
        "colab_type": "code",
        "colab": {}
      },
      "cell_type": "code",
      "source": [
        "# initiate RMSprop optimizer\n",
        "opt = keras.optimizers.rmsprop(lr=0.0001, decay=1e-6)"
      ],
      "execution_count": 0,
      "outputs": []
    },
    {
      "metadata": {
        "id": "M-1woqDgJtQp",
        "colab_type": "code",
        "colab": {}
      },
      "cell_type": "code",
      "source": [
        "# Let's train the model using RMSprop\n",
        "model.compile(loss='categorical_crossentropy',\n",
        "              optimizer=opt,\n",
        "              metrics=['accuracy'])"
      ],
      "execution_count": 0,
      "outputs": []
    },
    {
      "metadata": {
        "id": "-meY7yvnJvuQ",
        "colab_type": "code",
        "colab": {}
      },
      "cell_type": "code",
      "source": [
        "x_train = x_train.astype('float16')\n",
        "x_test = x_test.astype('float16')\n",
        "x_train /= 255\n",
        "x_test /= 255"
      ],
      "execution_count": 0,
      "outputs": []
    },
    {
      "metadata": {
        "id": "ipbilvhJJ_yp",
        "colab_type": "code",
        "colab": {}
      },
      "cell_type": "code",
      "source": [
        "data_augmentation = True"
      ],
      "execution_count": 0,
      "outputs": []
    },
    {
      "metadata": {
        "id": "VOyH2hLqJxlu",
        "colab_type": "code",
        "colab": {
          "base_uri": "https://localhost:8080/",
          "height": 831
        },
        "outputId": "7414d9e7-fb15-4954-9d02-70ad538a23d3"
      },
      "cell_type": "code",
      "source": [
        "if not data_augmentation:\n",
        "    print('Not using data augmentation.')\n",
        "    model.fit(x_train, y_train,\n",
        "              batch_size=batch_size,\n",
        "              epochs=epochs,\n",
        "              validation_data=(x_test, y_test),\n",
        "              shuffle=True)\n",
        "else:\n",
        "    print('Using real-time data augmentation.')\n",
        "    # This will do preprocessing and realtime data augmentation:\n",
        "    datagen = ImageDataGenerator(\n",
        "        featurewise_center=False,  # set input mean to 0 over the dataset\n",
        "        samplewise_center=False,  # set each sample mean to 0\n",
        "        featurewise_std_normalization=False,  # divide inputs by std of the dataset\n",
        "        samplewise_std_normalization=False,  # divide each input by its std\n",
        "        zca_whitening=False,  # apply ZCA whitening\n",
        "        rotation_range=0,  # randomly rotate images in the range (degrees, 0 to 180)\n",
        "        width_shift_range=0.1,  # randomly shift images horizontally (fraction of total width)\n",
        "        height_shift_range=0.1,  # randomly shift images vertically (fraction of total height)\n",
        "        horizontal_flip=True,  # randomly flip images\n",
        "        vertical_flip=False)  # randomly flip images\n",
        "\n",
        "    # Compute quantities required for feature-wise normalization\n",
        "    # (std, mean, and principal components if ZCA whitening is applied).\n",
        "    datagen.fit(x_train)\n",
        "\n",
        "    # Fit the model on the batches generated by datagen.flow().\n",
        "    model.fit_generator(datagen.flow(x_train, y_train, batch_size=batch_size), samples_per_epoch=len(x_train),\n",
        "                        epochs=epochs, validation_data=(x_test, y_test), workers=4)"
      ],
      "execution_count": 9,
      "outputs": [
        {
          "output_type": "stream",
          "text": [
            "Using real-time data augmentation.\n"
          ],
          "name": "stdout"
        },
        {
          "output_type": "stream",
          "text": [
            "/usr/local/lib/python2.7/dist-packages/ipykernel_launcher.py:29: UserWarning: Update your `fit_generator` call to the Keras 2 API: `fit_generator(<keras.pre..., epochs=20, validation_data=(array([[[..., steps_per_epoch=1562, workers=4)`\n"
          ],
          "name": "stderr"
        },
        {
          "output_type": "stream",
          "text": [
            "WARNING:tensorflow:Variable *= will be deprecated. Use variable.assign_mul if you want assignment to the variable value or 'x = x * y' if you want a new python Tensor object.\n",
            "Epoch 1/20\n",
            " 704/1562 [============>.................] - ETA: 36s - loss: 2.2237 - acc: 0.2784"
          ],
          "name": "stdout"
        },
        {
          "output_type": "stream",
          "text": [
            "1562/1562 [==============================] - 67s 43ms/step - loss: 1.9532 - acc: 0.3316 - val_loss: 1.3989 - val_acc: 0.4892\n",
            "Epoch 2/20\n",
            " 549/1562 [=========>....................] - ETA: 40s - loss: 1.6222 - acc: 0.4175"
          ],
          "name": "stdout"
        },
        {
          "output_type": "stream",
          "text": [
            "1562/1562 [==============================] - 65s 41ms/step - loss: 1.5677 - acc: 0.4416 - val_loss: 1.3188 - val_acc: 0.5316\n",
            "Epoch 3/20\n",
            " 483/1562 [========>.....................] - ETA: 44s - loss: 1.4964 - acc: 0.4686"
          ],
          "name": "stdout"
        },
        {
          "output_type": "stream",
          "text": [
            "1562/1562 [==============================] - 65s 42ms/step - loss: 1.4532 - acc: 0.4820 - val_loss: 1.1824 - val_acc: 0.5783\n",
            "Epoch 4/20\n",
            " 459/1562 [=======>......................] - ETA: 45s - loss: 1.3810 - acc: 0.5086"
          ],
          "name": "stdout"
        },
        {
          "output_type": "stream",
          "text": [
            "1562/1562 [==============================] - 66s 42ms/step - loss: 1.3519 - acc: 0.5189 - val_loss: 1.1656 - val_acc: 0.5812\n",
            "Epoch 5/20\n",
            " 453/1562 [=======>......................] - ETA: 45s - loss: 1.2814 - acc: 0.5459"
          ],
          "name": "stdout"
        },
        {
          "output_type": "stream",
          "text": [
            "1562/1562 [==============================] - 66s 42ms/step - loss: 1.2677 - acc: 0.5512 - val_loss: 1.2847 - val_acc: 0.5686\n",
            "Epoch 6/20\n",
            " 438/1562 [=======>......................] - ETA: 45s - loss: 1.2184 - acc: 0.5650"
          ],
          "name": "stdout"
        },
        {
          "output_type": "stream",
          "text": [
            "1562/1562 [==============================] - 66s 42ms/step - loss: 1.1903 - acc: 0.5784 - val_loss: 1.1196 - val_acc: 0.6042\n",
            "Epoch 7/20\n",
            " 442/1562 [=======>......................] - ETA: 46s - loss: 1.1682 - acc: 0.5857"
          ],
          "name": "stdout"
        },
        {
          "output_type": "stream",
          "text": [
            "1562/1562 [==============================] - 66s 42ms/step - loss: 1.1350 - acc: 0.5973 - val_loss: 0.9892 - val_acc: 0.6442\n",
            "Epoch 8/20\n",
            " 436/1562 [=======>......................] - ETA: 46s - loss: 1.0948 - acc: 0.6128"
          ],
          "name": "stdout"
        },
        {
          "output_type": "stream",
          "text": [
            "1562/1562 [==============================] - 67s 43ms/step - loss: 1.0848 - acc: 0.6199 - val_loss: 1.0014 - val_acc: 0.6491\n",
            "Epoch 9/20\n",
            " 444/1562 [=======>......................] - ETA: 45s - loss: 1.0522 - acc: 0.6273"
          ],
          "name": "stdout"
        },
        {
          "output_type": "stream",
          "text": [
            "1562/1562 [==============================] - 66s 42ms/step - loss: 1.0451 - acc: 0.6350 - val_loss: 0.9456 - val_acc: 0.6666\n",
            "Epoch 10/20\n",
            " 433/1562 [=======>......................] - ETA: 46s - loss: 1.0090 - acc: 0.6412"
          ],
          "name": "stdout"
        },
        {
          "output_type": "stream",
          "text": [
            "1562/1562 [==============================] - 66s 43ms/step - loss: 1.0069 - acc: 0.6466 - val_loss: 1.0096 - val_acc: 0.6417\n",
            "Epoch 11/20\n",
            " 442/1562 [=======>......................] - ETA: 45s - loss: 0.9906 - acc: 0.6513"
          ],
          "name": "stdout"
        },
        {
          "output_type": "stream",
          "text": [
            "1562/1562 [==============================] - 66s 42ms/step - loss: 0.9815 - acc: 0.6559 - val_loss: 0.8945 - val_acc: 0.6845\n",
            "Epoch 12/20\n",
            " 435/1562 [=======>......................] - ETA: 46s - loss: 0.9632 - acc: 0.6644"
          ],
          "name": "stdout"
        },
        {
          "output_type": "stream",
          "text": [
            "1562/1562 [==============================] - 66s 42ms/step - loss: 0.9555 - acc: 0.6663 - val_loss: 0.8813 - val_acc: 0.6900\n",
            "Epoch 13/20\n",
            " 439/1562 [=======>......................] - ETA: 45s - loss: 0.9293 - acc: 0.6773"
          ],
          "name": "stdout"
        },
        {
          "output_type": "stream",
          "text": [
            "1562/1562 [==============================] - 66s 42ms/step - loss: 0.9303 - acc: 0.6754 - val_loss: 0.8649 - val_acc: 0.6958\n",
            "Epoch 14/20\n",
            " 441/1562 [=======>......................] - ETA: 45s - loss: 0.9127 - acc: 0.6832"
          ],
          "name": "stdout"
        },
        {
          "output_type": "stream",
          "text": [
            "1562/1562 [==============================] - 66s 42ms/step - loss: 0.9114 - acc: 0.6836 - val_loss: 0.9162 - val_acc: 0.6816\n",
            "Epoch 15/20\n",
            " 454/1562 [=======>......................] - ETA: 44s - loss: 0.8951 - acc: 0.6846"
          ],
          "name": "stdout"
        },
        {
          "output_type": "stream",
          "text": [
            "1562/1562 [==============================] - 66s 42ms/step - loss: 0.8956 - acc: 0.6892 - val_loss: 0.8023 - val_acc: 0.7188\n",
            "Epoch 16/20\n",
            " 447/1562 [=======>......................] - ETA: 45s - loss: 0.8650 - acc: 0.6988"
          ],
          "name": "stdout"
        },
        {
          "output_type": "stream",
          "text": [
            "1562/1562 [==============================] - 66s 42ms/step - loss: 0.8782 - acc: 0.6959 - val_loss: 0.7588 - val_acc: 0.7362\n",
            "Epoch 17/20\n",
            " 437/1562 [=======>......................] - ETA: 46s - loss: 0.8733 - acc: 0.6919"
          ],
          "name": "stdout"
        },
        {
          "output_type": "stream",
          "text": [
            "1562/1562 [==============================] - 66s 42ms/step - loss: 0.8698 - acc: 0.6973 - val_loss: 0.7652 - val_acc: 0.7366\n",
            "Epoch 18/20\n",
            " 445/1562 [=======>......................] - ETA: 45s - loss: 0.8617 - acc: 0.7004"
          ],
          "name": "stdout"
        },
        {
          "output_type": "stream",
          "text": [
            "1562/1562 [==============================] - 66s 42ms/step - loss: 0.8520 - acc: 0.7039 - val_loss: 0.7503 - val_acc: 0.7358\n",
            "Epoch 19/20\n",
            " 442/1562 [=======>......................] - ETA: 44s - loss: 0.8511 - acc: 0.7049"
          ],
          "name": "stdout"
        },
        {
          "output_type": "stream",
          "text": [
            "1562/1562 [==============================] - 65s 42ms/step - loss: 0.8440 - acc: 0.7060 - val_loss: 0.7935 - val_acc: 0.7244\n",
            "Epoch 20/20\n",
            " 453/1562 [=======>......................] - ETA: 44s - loss: 0.8247 - acc: 0.7170"
          ],
          "name": "stdout"
        },
        {
          "output_type": "stream",
          "text": [
            "1562/1562 [==============================] - 65s 42ms/step - loss: 0.8293 - acc: 0.7142 - val_loss: 0.8136 - val_acc: 0.7269\n"
          ],
          "name": "stdout"
        }
      ]
    },
    {
      "metadata": {
        "id": "41ukEJ0pOf2_",
        "colab_type": "code",
        "colab": {}
      },
      "cell_type": "code",
      "source": [
        "from google.colab import files "
      ],
      "execution_count": 0,
      "outputs": []
    },
    {
      "metadata": {
        "id": "rFXKKMK6KCnx",
        "colab_type": "code",
        "colab": {
          "base_uri": "https://localhost:8080/",
          "height": 35
        },
        "outputId": "e8b20f0d-ead9-4d0d-9d4b-3a909e7b6b64"
      },
      "cell_type": "code",
      "source": [
        "# Save model and weights\n",
        "if not os.path.isdir(save_dir):\n",
        "    os.makedirs(save_dir)\n",
        "model_path = os.path.join(save_dir, model_name)\n",
        "model.save(model_path)\n",
        "print('Saved trained model at %s ' % model_path)"
      ],
      "execution_count": 11,
      "outputs": [
        {
          "output_type": "stream",
          "text": [
            "Saved trained model at /content/saved_models/keras_cifar10_trained_model.h5 \n"
          ],
          "name": "stdout"
        }
      ]
    },
    {
      "metadata": {
        "id": "y74exG9iOvH2",
        "colab_type": "code",
        "colab": {}
      },
      "cell_type": "code",
      "source": [
        "files.download(model_path)"
      ],
      "execution_count": 0,
      "outputs": []
    },
    {
      "metadata": {
        "id": "yKYPkmbwKRCy",
        "colab_type": "code",
        "colab": {
          "base_uri": "https://localhost:8080/",
          "height": 72
        },
        "outputId": "2b1bab8f-5f51-4222-f571-190a00d12d81"
      },
      "cell_type": "code",
      "source": [
        "# Score trained model.\n",
        "scores = model.evaluate(x_test, y_test, verbose=1)\n",
        "print('Test loss:', scores[0])\n",
        "print('Test accuracy:', scores[1])"
      ],
      "execution_count": 13,
      "outputs": [
        {
          "output_type": "stream",
          "text": [
            "10000/10000 [==============================] - 3s 281us/step\n",
            "Test loss: 0.813600121974945\n",
            "Test accuracy: 0.7269\n"
          ],
          "name": "stdout"
        }
      ]
    },
    {
      "metadata": {
        "id": "yV80kbuPN4Lf",
        "colab_type": "code",
        "colab": {}
      },
      "cell_type": "code",
      "source": [
        ""
      ],
      "execution_count": 0,
      "outputs": []
    }
  ]
}