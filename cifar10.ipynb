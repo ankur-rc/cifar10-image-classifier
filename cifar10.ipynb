{
  "nbformat": 4,
  "nbformat_minor": 0,
  "metadata": {
    "colab": {
      "name": "cifar10.ipynb",
      "version": "0.3.2",
      "provenance": [],
      "collapsed_sections": []
    },
    "kernelspec": {
      "name": "python2",
      "display_name": "Python 2"
    },
    "accelerator": "GPU"
  },
  "cells": [
    {
      "cell_type": "markdown",
      "metadata": {
        "id": "view-in-github",
        "colab_type": "text"
      },
      "source": [
        "[View in Colaboratory](https://colab.research.google.com/github/nautilusPrime/cifar10-image-classifier/blob/master/cifar10.ipynb)"
      ]
    },
    {
      "metadata": {
        "id": "oue7VXqkI3Ia",
        "colab_type": "code",
        "colab": {
          "base_uri": "https://localhost:8080/",
          "height": 17
        },
        "outputId": "b579b0e3-ea7d-4900-f9e4-62167c81e814"
      },
      "cell_type": "code",
      "source": [
        "from __future__ import print_function\n",
        "import keras\n",
        "from keras.datasets import cifar10\n",
        "from keras.preprocessing.image import ImageDataGenerator\n",
        "from keras.models import Sequential\n",
        "from keras.layers import Dense, Dropout, Activation, Flatten, BatchNormalization\n",
        "from keras.layers import Conv2D, MaxPooling2D\n",
        "from keras.callbacks import EarlyStopping\n",
        "from keras.regularizers import l2\n",
        "import os"
      ],
      "execution_count": 53,
      "outputs": []
    },
    {
      "metadata": {
        "id": "sBmT5avYJLj2",
        "colab_type": "code",
        "colab": {
          "base_uri": "https://localhost:8080/",
          "height": 17
        },
        "outputId": "614f30d3-12a1-46b4-b6aa-664e3d1571e9"
      },
      "cell_type": "code",
      "source": [
        "batch_size = 32\n",
        "num_classes = 10\n",
        "epochs = 100\n",
        "save_dir = os.path.join(os.getcwd(), 'saved_models')\n",
        "model_name = 'keras_cifar10_trained_model.h5'"
      ],
      "execution_count": 54,
      "outputs": []
    },
    {
      "metadata": {
        "id": "_W4drVHwJNuX",
        "colab_type": "code",
        "colab": {
          "base_uri": "https://localhost:8080/",
          "height": 72
        },
        "outputId": "99225921-478d-4065-be3c-72d3912efa52"
      },
      "cell_type": "code",
      "source": [
        "# The data, split between train and test sets:\n",
        "(x_train, y_train), (x_test, y_test) = cifar10.load_data()\n",
        "print('x_train shape:', x_train.shape)\n",
        "print(x_train.shape[0], 'train samples')\n",
        "print(x_test.shape[0], 'test samples')\n",
        "# Convert class vectors to binary class matrices.\n",
        "y_train = keras.utils.to_categorical(y_train, num_classes)\n",
        "y_test = keras.utils.to_categorical(y_test, num_classes)"
      ],
      "execution_count": 55,
      "outputs": [
        {
          "output_type": "stream",
          "text": [
            "x_train shape: (50000, 32, 32, 3)\n",
            "50000 train samples\n",
            "10000 test samples\n"
          ],
          "name": "stdout"
        }
      ]
    },
    {
      "metadata": {
        "id": "BcpkOYuyBl6p",
        "colab_type": "code",
        "colab": {
          "base_uri": "https://localhost:8080/",
          "height": 17
        },
        "outputId": "9ada249d-6c89-402e-922e-6913407b8815"
      },
      "cell_type": "code",
      "source": [
        "l2_lambda = 0.0001"
      ],
      "execution_count": 56,
      "outputs": []
    },
    {
      "metadata": {
        "id": "yXCxfdiyJaB_",
        "colab_type": "code",
        "colab": {
          "base_uri": "https://localhost:8080/",
          "height": 17
        },
        "outputId": "74375896-1845-4984-fad5-3ca3746683f0"
      },
      "cell_type": "code",
      "source": [
        "# You can modify Model here.\n",
        "model = Sequential()\n",
        "model.add(Conv2D(32, (3, 3), padding='same',\n",
        "                 input_shape=x_train.shape[1:],\n",
        "                 kernel_initializer='he_uniform', \n",
        "                 kernel_regularizer=l2(l2_lambda)))\n",
        "model.add(Activation('relu'))\n",
        "model.add(BatchNormalization())\n",
        "model.add(Conv2D(32, (3, 3),\n",
        "                 kernel_initializer='he_uniform', \n",
        "                 kernel_regularizer=l2(l2_lambda)))\n",
        "model.add(Activation('relu'))\n",
        "model.add(BatchNormalization())\n",
        "model.add(MaxPooling2D(pool_size=(2, 2)))\n",
        "model.add(Dropout(0.25))\n",
        "\n",
        "model.add(Conv2D(64, (3, 3), padding='same',\n",
        "                 kernel_initializer='he_uniform', \n",
        "                 kernel_regularizer=l2(l2_lambda)))\n",
        "model.add(Activation('relu'))\n",
        "model.add(BatchNormalization())\n",
        "model.add(Conv2D(64, (3, 3),\n",
        "                 kernel_initializer='he_uniform', \n",
        "                 kernel_regularizer=l2(l2_lambda)))\n",
        "model.add(Activation('relu'))\n",
        "model.add(BatchNormalization())\n",
        "model.add(MaxPooling2D(pool_size=(2, 2)))\n",
        "model.add(Dropout(0.25))\n",
        "\n",
        "model.add(Flatten())\n",
        "model.add(Dense(512,\n",
        "               kernel_initializer='he_uniform', \n",
        "               kernel_regularizer=l2(l2_lambda)))\n",
        "model.add(Activation('relu'))\n",
        "model.add(BatchNormalization())\n",
        "model.add(Dropout(0.5))\n",
        "model.add(Dense(num_classes,\n",
        "                kernel_initializer='glorot_uniform', \n",
        "                kernel_regularizer=l2(l2_lambda)))\n",
        "model.add(Activation('softmax'))"
      ],
      "execution_count": 58,
      "outputs": []
    },
    {
      "metadata": {
        "id": "M-1woqDgJtQp",
        "colab_type": "code",
        "colab": {
          "base_uri": "https://localhost:8080/",
          "height": 17
        },
        "outputId": "ff115aa9-2b28-4602-b7c4-3cd372c6711d"
      },
      "cell_type": "code",
      "source": [
        "# Let's train the model using RMSprop\n",
        "model.compile(loss='categorical_crossentropy',\n",
        "              optimizer='nadam',\n",
        "              metrics=['accuracy'])"
      ],
      "execution_count": 59,
      "outputs": []
    },
    {
      "metadata": {
        "id": "-meY7yvnJvuQ",
        "colab_type": "code",
        "colab": {
          "base_uri": "https://localhost:8080/",
          "height": 17
        },
        "outputId": "ee38e2d5-33fe-49b1-a11d-3afd90507df1"
      },
      "cell_type": "code",
      "source": [
        "x_train = x_train.astype('float16')\n",
        "x_test = x_test.astype('float16')\n",
        "x_train /= 255\n",
        "x_test /= 255"
      ],
      "execution_count": 60,
      "outputs": []
    },
    {
      "metadata": {
        "id": "ipbilvhJJ_yp",
        "colab_type": "code",
        "colab": {
          "base_uri": "https://localhost:8080/",
          "height": 17
        },
        "outputId": "2a7de76f-6af6-4766-e35c-7c7821b15e5f"
      },
      "cell_type": "code",
      "source": [
        "data_augmentation = False"
      ],
      "execution_count": 61,
      "outputs": []
    },
    {
      "metadata": {
        "id": "VOyH2hLqJxlu",
        "colab_type": "code",
        "colab": {
          "base_uri": "https://localhost:8080/",
          "height": 1218
        },
        "outputId": "e7b184be-c043-4128-eacf-26f285362de2"
      },
      "cell_type": "code",
      "source": [
        "if not data_augmentation:\n",
        "    print('Not using data augmentation.')\n",
        "    model.fit(x_train, y_train,\n",
        "              batch_size=batch_size,\n",
        "              epochs=epochs,\n",
        "              validation_data=(x_test, y_test),\n",
        "              shuffle=True,\n",
        "              callbacks=[EarlyStopping(monitor='val_loss', patience=5)])\n",
        "else:\n",
        "    print('Using real-time data augmentation.')\n",
        "    # This will do preprocessing and realtime data augmentation:\n",
        "    datagen = ImageDataGenerator(\n",
        "        featurewise_center=False,  # set input mean to 0 over the dataset\n",
        "        samplewise_center=False,  # set each sample mean to 0\n",
        "        featurewise_std_normalization=False,  # divide inputs by std of the dataset\n",
        "        samplewise_std_normalization=False,  # divide each input by its std\n",
        "        zca_whitening=False,  # apply ZCA whitening\n",
        "        rotation_range=0,  # randomly rotate images in the range (degrees, 0 to 180)\n",
        "        width_shift_range=0.1,  # randomly shift images horizontally (fraction of total width)\n",
        "        height_shift_range=0.1,  # randomly shift images vertically (fraction of total height)\n",
        "        horizontal_flip=True,  # randomly flip images\n",
        "        vertical_flip=False)  # randomly flip images\n",
        "\n",
        "    # Compute quantities required for feature-wise normalization\n",
        "    # (std, mean, and principal components if ZCA whitening is applied).\n",
        "    datagen.fit(x_train)\n",
        "\n",
        "    # Fit the model on the batches generated by datagen.flow().\n",
        "    model.fit_generator(datagen.flow(x_train, y_train, batch_size=batch_size), samples_per_epoch=len(x_train),\n",
        "                        epochs=epochs, validation_data=(x_test, y_test), workers=4)"
      ],
      "execution_count": 62,
      "outputs": [
        {
          "output_type": "stream",
          "text": [
            "Not using data augmentation.\n",
            "Train on 50000 samples, validate on 10000 samples\n",
            "Epoch 1/100\n",
            "36448/50000 [====================>.........] - ETA: 16s - loss: 1.7405 - acc: 0.4805"
          ],
          "name": "stdout"
        },
        {
          "output_type": "stream",
          "text": [
            "50000/50000 [==============================] - 62s 1ms/step - loss: 1.6407 - acc: 0.5169 - val_loss: 1.7037 - val_acc: 0.5170\n",
            "Epoch 2/100\n",
            "23648/50000 [=============>................] - ETA: 30s - loss: 1.3278 - acc: 0.6399"
          ],
          "name": "stdout"
        },
        {
          "output_type": "stream",
          "text": [
            "50000/50000 [==============================] - 60s 1ms/step - loss: 1.3179 - acc: 0.6503 - val_loss: 1.5249 - val_acc: 0.6032\n",
            "Epoch 3/100\n",
            "18784/50000 [==========>...................] - ETA: 36s - loss: 1.2817 - acc: 0.6846"
          ],
          "name": "stdout"
        },
        {
          "output_type": "stream",
          "text": [
            "50000/50000 [==============================] - 60s 1ms/step - loss: 1.2979 - acc: 0.6900 - val_loss: 1.2210 - val_acc: 0.7321\n",
            "Epoch 4/100\n",
            "16896/50000 [=========>....................] - ETA: 37s - loss: 1.2852 - acc: 0.7108"
          ],
          "name": "stdout"
        },
        {
          "output_type": "stream",
          "text": [
            "50000/50000 [==============================] - 60s 1ms/step - loss: 1.2829 - acc: 0.7155 - val_loss: 1.1991 - val_acc: 0.7459\n",
            "Epoch 5/100\n",
            "16224/50000 [========>.....................] - ETA: 38s - loss: 1.2445 - acc: 0.7329"
          ],
          "name": "stdout"
        },
        {
          "output_type": "stream",
          "text": [
            "50000/50000 [==============================] - 60s 1ms/step - loss: 1.2463 - acc: 0.7337 - val_loss: 1.1941 - val_acc: 0.7452\n",
            "Epoch 6/100\n",
            "15968/50000 [========>.....................] - ETA: 39s - loss: 1.1895 - acc: 0.7549"
          ],
          "name": "stdout"
        },
        {
          "output_type": "stream",
          "text": [
            "50000/50000 [==============================] - 60s 1ms/step - loss: 1.2168 - acc: 0.7466 - val_loss: 1.4276 - val_acc: 0.6807\n",
            "Epoch 7/100\n",
            "15904/50000 [========>.....................] - ETA: 39s - loss: 1.1607 - acc: 0.7626"
          ],
          "name": "stdout"
        },
        {
          "output_type": "stream",
          "text": [
            "50000/50000 [==============================] - 60s 1ms/step - loss: 1.1908 - acc: 0.7553 - val_loss: 1.1309 - val_acc: 0.7734\n",
            "Epoch 8/100\n",
            "15840/50000 [========>.....................] - ETA: 39s - loss: 1.1509 - acc: 0.7674"
          ],
          "name": "stdout"
        },
        {
          "output_type": "stream",
          "text": [
            "50000/50000 [==============================] - 60s 1ms/step - loss: 1.1779 - acc: 0.7622 - val_loss: 1.2926 - val_acc: 0.7241\n",
            "Epoch 9/100\n",
            "15776/50000 [========>.....................] - ETA: 39s - loss: 1.1409 - acc: 0.7754"
          ],
          "name": "stdout"
        },
        {
          "output_type": "stream",
          "text": [
            "50000/50000 [==============================] - 60s 1ms/step - loss: 1.1715 - acc: 0.7660 - val_loss: 1.1441 - val_acc: 0.7798\n",
            "Epoch 10/100\n",
            "15712/50000 [========>.....................] - ETA: 39s - loss: 1.1285 - acc: 0.7765"
          ],
          "name": "stdout"
        },
        {
          "output_type": "stream",
          "text": [
            "50000/50000 [==============================] - 60s 1ms/step - loss: 1.1613 - acc: 0.7693 - val_loss: 1.2153 - val_acc: 0.7469\n",
            "Epoch 11/100\n",
            "15712/50000 [========>.....................] - ETA: 39s - loss: 1.1157 - acc: 0.7810"
          ],
          "name": "stdout"
        },
        {
          "output_type": "stream",
          "text": [
            "50000/50000 [==============================] - 60s 1ms/step - loss: 1.1437 - acc: 0.7734 - val_loss: 1.1225 - val_acc: 0.7829\n",
            "Epoch 12/100\n",
            "15712/50000 [========>.....................] - ETA: 39s - loss: 1.1093 - acc: 0.7865"
          ],
          "name": "stdout"
        },
        {
          "output_type": "stream",
          "text": [
            "50000/50000 [==============================] - 61s 1ms/step - loss: 1.1476 - acc: 0.7761 - val_loss: 1.1420 - val_acc: 0.7712\n",
            "Epoch 13/100\n",
            "15616/50000 [========>.....................] - ETA: 39s - loss: 1.0930 - acc: 0.7913"
          ],
          "name": "stdout"
        },
        {
          "output_type": "stream",
          "text": [
            "50000/50000 [==============================] - 60s 1ms/step - loss: 1.1262 - acc: 0.7815 - val_loss: 1.1472 - val_acc: 0.7747\n",
            "Epoch 14/100\n",
            "15616/50000 [========>.....................] - ETA: 40s - loss: 1.1138 - acc: 0.7800"
          ],
          "name": "stdout"
        },
        {
          "output_type": "stream",
          "text": [
            "50000/50000 [==============================] - 61s 1ms/step - loss: 1.1295 - acc: 0.7790 - val_loss: 1.1043 - val_acc: 0.7898\n",
            "Epoch 15/100\n",
            "15648/50000 [========>.....................] - ETA: 39s - loss: 1.0976 - acc: 0.7910"
          ],
          "name": "stdout"
        },
        {
          "output_type": "stream",
          "text": [
            "50000/50000 [==============================] - 60s 1ms/step - loss: 1.1194 - acc: 0.7832 - val_loss: 1.1044 - val_acc: 0.7845\n",
            "Epoch 16/100\n",
            "15680/50000 [========>.....................] - ETA: 39s - loss: 1.0744 - acc: 0.7957"
          ],
          "name": "stdout"
        },
        {
          "output_type": "stream",
          "text": [
            "50000/50000 [==============================] - 60s 1ms/step - loss: 1.1084 - acc: 0.7852 - val_loss: 1.0886 - val_acc: 0.7900\n",
            "Epoch 17/100\n",
            "15712/50000 [========>.....................] - ETA: 39s - loss: 1.0892 - acc: 0.7939"
          ],
          "name": "stdout"
        },
        {
          "output_type": "stream",
          "text": [
            "50000/50000 [==============================] - 61s 1ms/step - loss: 1.1089 - acc: 0.7881 - val_loss: 1.2062 - val_acc: 0.7518\n",
            "Epoch 18/100\n",
            "15712/50000 [========>.....................] - ETA: 39s - loss: 1.0848 - acc: 0.7944"
          ],
          "name": "stdout"
        },
        {
          "output_type": "stream",
          "text": [
            "50000/50000 [==============================] - 60s 1ms/step - loss: 1.1076 - acc: 0.7862 - val_loss: 1.0599 - val_acc: 0.8013\n",
            "Epoch 19/100\n",
            "15680/50000 [========>.....................] - ETA: 39s - loss: 1.0648 - acc: 0.8008"
          ],
          "name": "stdout"
        },
        {
          "output_type": "stream",
          "text": [
            "50000/50000 [==============================] - 60s 1ms/step - loss: 1.0947 - acc: 0.7920 - val_loss: 1.0287 - val_acc: 0.8135\n",
            "Epoch 20/100\n",
            "15712/50000 [========>.....................] - ETA: 39s - loss: 1.0493 - acc: 0.8049"
          ],
          "name": "stdout"
        },
        {
          "output_type": "stream",
          "text": [
            "50000/50000 [==============================] - 60s 1ms/step - loss: 1.0932 - acc: 0.7897 - val_loss: 1.1400 - val_acc: 0.7770\n",
            "Epoch 21/100\n",
            "15712/50000 [========>.....................] - ETA: 39s - loss: 1.0459 - acc: 0.8031"
          ],
          "name": "stdout"
        },
        {
          "output_type": "stream",
          "text": [
            "50000/50000 [==============================] - 61s 1ms/step - loss: 1.0844 - acc: 0.7908 - val_loss: 1.0367 - val_acc: 0.8100\n",
            "Epoch 22/100\n",
            "15712/50000 [========>.....................] - ETA: 39s - loss: 1.0573 - acc: 0.8045"
          ],
          "name": "stdout"
        },
        {
          "output_type": "stream",
          "text": [
            "50000/50000 [==============================] - 60s 1ms/step - loss: 1.0814 - acc: 0.7966 - val_loss: 1.0666 - val_acc: 0.7986\n",
            "Epoch 23/100\n",
            "15712/50000 [========>.....................] - ETA: 39s - loss: 1.0610 - acc: 0.7996"
          ],
          "name": "stdout"
        },
        {
          "output_type": "stream",
          "text": [
            "50000/50000 [==============================] - 60s 1ms/step - loss: 1.0820 - acc: 0.7929 - val_loss: 1.0422 - val_acc: 0.8054\n",
            "Epoch 24/100\n",
            "15712/50000 [========>.....................] - ETA: 39s - loss: 1.0279 - acc: 0.8126"
          ],
          "name": "stdout"
        },
        {
          "output_type": "stream",
          "text": [
            "50000/50000 [==============================] - 61s 1ms/step - loss: 1.0688 - acc: 0.7968 - val_loss: 1.0186 - val_acc: 0.8155\n",
            "Epoch 25/100\n",
            "15680/50000 [========>.....................] - ETA: 39s - loss: 1.0517 - acc: 0.8009"
          ],
          "name": "stdout"
        },
        {
          "output_type": "stream",
          "text": [
            "50000/50000 [==============================] - 61s 1ms/step - loss: 1.0687 - acc: 0.7958 - val_loss: 1.0807 - val_acc: 0.7910\n",
            "Epoch 26/100\n",
            "15648/50000 [========>.....................] - ETA: 40s - loss: 1.0367 - acc: 0.8074"
          ],
          "name": "stdout"
        },
        {
          "output_type": "stream",
          "text": [
            "50000/50000 [==============================] - 61s 1ms/step - loss: 1.0685 - acc: 0.7958 - val_loss: 1.0053 - val_acc: 0.8173\n",
            "Epoch 27/100\n",
            "15712/50000 [========>.....................] - ETA: 39s - loss: 1.0375 - acc: 0.8023"
          ],
          "name": "stdout"
        },
        {
          "output_type": "stream",
          "text": [
            "50000/50000 [==============================] - 60s 1ms/step - loss: 1.0636 - acc: 0.7940 - val_loss: 1.0329 - val_acc: 0.8083\n",
            "Epoch 28/100\n",
            "15712/50000 [========>.....................] - ETA: 39s - loss: 1.0257 - acc: 0.8064"
          ],
          "name": "stdout"
        },
        {
          "output_type": "stream",
          "text": [
            "50000/50000 [==============================] - 61s 1ms/step - loss: 1.0561 - acc: 0.8004 - val_loss: 1.1516 - val_acc: 0.7758\n",
            "Epoch 29/100\n",
            "15712/50000 [========>.....................] - ETA: 39s - loss: 1.0193 - acc: 0.8107"
          ],
          "name": "stdout"
        },
        {
          "output_type": "stream",
          "text": [
            "50000/50000 [==============================] - 60s 1ms/step - loss: 1.0484 - acc: 0.8004 - val_loss: 1.0240 - val_acc: 0.8076\n",
            "Epoch 30/100\n",
            "15712/50000 [========>.....................] - ETA: 39s - loss: 1.0341 - acc: 0.8044"
          ],
          "name": "stdout"
        },
        {
          "output_type": "stream",
          "text": [
            "50000/50000 [==============================] - 60s 1ms/step - loss: 1.0561 - acc: 0.7975 - val_loss: 1.0379 - val_acc: 0.8038\n",
            "Epoch 31/100\n",
            "15488/50000 [========>.....................] - ETA: 40s - loss: 1.0162 - acc: 0.8093"
          ],
          "name": "stdout"
        },
        {
          "output_type": "stream",
          "text": [
            "50000/50000 [==============================] - 61s 1ms/step - loss: 1.0495 - acc: 0.7991 - val_loss: 1.0483 - val_acc: 0.8061\n"
          ],
          "name": "stdout"
        }
      ]
    },
    {
      "metadata": {
        "id": "41ukEJ0pOf2_",
        "colab_type": "code",
        "colab": {}
      },
      "cell_type": "code",
      "source": [
        "from google.colab import files "
      ],
      "execution_count": 0,
      "outputs": []
    },
    {
      "metadata": {
        "id": "rFXKKMK6KCnx",
        "colab_type": "code",
        "colab": {
          "base_uri": "https://localhost:8080/",
          "height": 35
        },
        "outputId": "e8b20f0d-ead9-4d0d-9d4b-3a909e7b6b64"
      },
      "cell_type": "code",
      "source": [
        "# Save model and weights\n",
        "if not os.path.isdir(save_dir):\n",
        "    os.makedirs(save_dir)\n",
        "model_path = os.path.join(save_dir, model_name)\n",
        "model.save(model_path)\n",
        "print('Saved trained model at %s ' % model_path)"
      ],
      "execution_count": 0,
      "outputs": [
        {
          "output_type": "stream",
          "text": [
            "Saved trained model at /content/saved_models/keras_cifar10_trained_model.h5 \n"
          ],
          "name": "stdout"
        }
      ]
    },
    {
      "metadata": {
        "id": "y74exG9iOvH2",
        "colab_type": "code",
        "colab": {}
      },
      "cell_type": "code",
      "source": [
        "files.download(model_path)"
      ],
      "execution_count": 0,
      "outputs": []
    },
    {
      "metadata": {
        "id": "yKYPkmbwKRCy",
        "colab_type": "code",
        "colab": {
          "base_uri": "https://localhost:8080/",
          "height": 72
        },
        "outputId": "f6552724-92ba-4b54-bb53-8c2d39689f13"
      },
      "cell_type": "code",
      "source": [
        "# Score trained model.\n",
        "scores = model.evaluate(x_test, y_test, verbose=1)\n",
        "print('Test loss:', scores[0])\n",
        "print('Test accuracy:', scores[1])"
      ],
      "execution_count": 11,
      "outputs": [
        {
          "output_type": "stream",
          "text": [
            "10000/10000 [==============================] - 3s 284us/step\n",
            "Test loss: 0.6678660587310791\n",
            "Test accuracy: 0.8141\n"
          ],
          "name": "stdout"
        }
      ]
    },
    {
      "metadata": {
        "id": "yV80kbuPN4Lf",
        "colab_type": "code",
        "colab": {}
      },
      "cell_type": "code",
      "source": [
        ""
      ],
      "execution_count": 0,
      "outputs": []
    }
  ]
}