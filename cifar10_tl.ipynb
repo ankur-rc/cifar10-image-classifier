{
  "nbformat": 4,
  "nbformat_minor": 0,
  "metadata": {
    "colab": {
      "name": "cifar10-tl.ipynb",
      "version": "0.3.2",
      "provenance": []
    },
    "kernelspec": {
      "name": "python2",
      "display_name": "Python 2"
    },
    "accelerator": "GPU"
  },
  "cells": [
    {
      "cell_type": "markdown",
      "metadata": {
        "id": "view-in-github",
        "colab_type": "text"
      },
      "source": [
        "[View in Colaboratory](https://colab.research.google.com/github/nautilusPrime/cifar10-image-classifier/blob/master/cifar10_tl.ipynb)"
      ]
    },
    {
      "metadata": {
        "id": "gJTcPxTAIlT3",
        "colab_type": "code",
        "colab": {
          "base_uri": "https://localhost:8080/",
          "height": 35
        },
        "outputId": "a4ff0e2e-8455-4123-e6eb-b971065438ce"
      },
      "cell_type": "code",
      "source": [
        "import keras\n",
        "from keras.datasets import cifar10\n",
        "from keras.applications import VGG16\n",
        "from keras.preprocessing.image import ImageDataGenerator\n",
        "from keras.models import Sequential\n",
        "from keras.layers import Dense, Dropout, Activation, Flatten\n",
        "from keras.layers import Conv2D, MaxPooling2D\n",
        "from skimage.transform import resize\n",
        "import numpy as np\n",
        "import os"
      ],
      "execution_count": 1,
      "outputs": [
        {
          "output_type": "stream",
          "text": [
            "Using TensorFlow backend.\n"
          ],
          "name": "stderr"
        }
      ]
    },
    {
      "metadata": {
        "id": "8iBtUeMQIq-X",
        "colab_type": "code",
        "colab": {}
      },
      "cell_type": "code",
      "source": [
        "batch_size = 32\n",
        "num_classes = 10\n",
        "epochs = 20\n",
        "data_augmentation = False\n",
        "save_dir = os.path.join(os.getcwd(), 'saved_models')\n",
        "model_name = 'cifar10_trained_model.h5'"
      ],
      "execution_count": 0,
      "outputs": []
    },
    {
      "metadata": {
        "id": "-Ls1wM7PIxcB",
        "colab_type": "code",
        "colab": {}
      },
      "cell_type": "code",
      "source": [
        "def resize_and_subsample(X_train, y_train, X_test, y_test):\n",
        "    \n",
        "    print \"Resizing training samples...\"\n",
        "    # resized x_train\n",
        "    resized = []\n",
        "    for image in X_train[:10000]:\n",
        "        resized += [resize(image, (139, 139), mode='constant')]\n",
        "        \n",
        "    np.savez(open(save_dir+\"/X_train_resized_2000.npz\", 'w'), data=resized)\n",
        "    \n",
        "    print \"Resizing test samples...\"\n",
        "    # resized x_test\n",
        "    resized = []\n",
        "    for image in X_test[:2000]:\n",
        "        resized += [resize(image, (139, 139), mode='constant')]\n",
        "        \n",
        "    print \"Saving the resized and subsampled files...\"\n",
        "    np.savez(open(save_dir+\"/X_test_resized_200.npz\", 'w'), data=resized)\n",
        "    np.savez(open(save_dir+\"/y_test_200.npz\", 'w'), data=y_test[:2000])\n",
        "    np.savez(open(save_dir+\"/y_train_2000.npz\", 'w'), data=y_train[:10000])\n",
        "    \n",
        "    return (X_train, y_train), (X_test, y_test)"
      ],
      "execution_count": 0,
      "outputs": []
    },
    {
      "metadata": {
        "id": "qA-DIq6GP7JX",
        "colab_type": "code",
        "colab": {}
      },
      "cell_type": "code",
      "source": [
        "save_dir = os.path.join(os.getcwd(), 'saved_models')\n",
        "!rm -rf $save_dir"
      ],
      "execution_count": 0,
      "outputs": []
    },
    {
      "metadata": {
        "id": "knUnx8VVI1I1",
        "colab_type": "code",
        "colab": {}
      },
      "cell_type": "code",
      "source": [
        "def load_dataset():\n",
        "    \n",
        "    save_dir = os.path.join(os.getcwd(), 'saved_models')\n",
        "    if not os.path.exists(save_dir):\n",
        "      os.makedirs(save_dir)\n",
        "    X_train_path = save_dir+\"/X_train_resized_2000.npz\"\n",
        "    X_test_path = save_dir+\"/X_test_resized_200.npz\"\n",
        "    y_train_path = save_dir+\"/y_train_2000.npz\"\n",
        "    y_test_path = save_dir+\"/y_test_200.npz\"\n",
        "    \n",
        "    if os.path.exists(X_train_path) and os.path.exists(X_test_path) and os.path.exists(y_train_path) and os.path.exists(y_test_path):\n",
        "        print \"Train and test samples have already been resized and subsampled.\"\n",
        "    else:\n",
        "        print \"Train and test samples need to be resized and subsampled...\"\n",
        "        (X_train, y_train), (X_test, y_test) = cifar10.load_data()\n",
        "        (X_train, y_train), (X_test, y_test) = resize_and_subsample(X_train, y_train, X_test, y_test)\n",
        "        print \"Done.\"\n",
        "        \n",
        "    print \"Loading the files from disk...\"\n",
        "    # loading data\n",
        "    X_train = np.load(open(save_dir+\"/X_train_resized_2000.npz\", 'r'))\n",
        "    X_train = X_train['data']\n",
        "    \n",
        "    X_test = np.load(open(save_dir+\"/X_test_resized_200.npz\", 'r'))\n",
        "    X_test = X_test['data']\n",
        "    \n",
        "    y_train = np.load(open(save_dir+\"/y_train_2000.npz\", 'r'))\n",
        "    y_train = y_train['data']\n",
        "    y_test = np.load(open(save_dir+\"/y_test_200.npz\", 'r'))\n",
        "    y_test = y_test['data']\n",
        "    \n",
        "    print \"Done.\"\n",
        "    \n",
        "    return (X_train, y_train), (X_test, y_test)"
      ],
      "execution_count": 0,
      "outputs": []
    },
    {
      "metadata": {
        "id": "H6hPHQEBI4z8",
        "colab_type": "code",
        "colab": {
          "base_uri": "https://localhost:8080/",
          "height": 72
        },
        "outputId": "9471228f-1ca2-482c-d42c-147a2b29085c"
      },
      "cell_type": "code",
      "source": [
        "# load the dataset\n",
        "(X_train, y_train), (X_test, y_test) = load_dataset()"
      ],
      "execution_count": 5,
      "outputs": [
        {
          "output_type": "stream",
          "text": [
            "Train and test samples have already been resized and subsampled.\n",
            "Loading the files from disk...\n",
            "Done.\n"
          ],
          "name": "stdout"
        }
      ]
    },
    {
      "metadata": {
        "id": "JXRAL-eaI7Qb",
        "colab_type": "code",
        "colab": {
          "base_uri": "https://localhost:8080/",
          "height": 35
        },
        "outputId": "abb266a9-540e-46db-841e-45d3390bd3db"
      },
      "cell_type": "code",
      "source": [
        "print X_train.shape, y_train.shape, X_test.shape, y_test.shape"
      ],
      "execution_count": 6,
      "outputs": [
        {
          "output_type": "stream",
          "text": [
            "(10000, 139, 139, 3) (10000, 1) (2000, 139, 139, 3) (2000, 1)\n"
          ],
          "name": "stdout"
        }
      ]
    },
    {
      "metadata": {
        "id": "7-ZqW0CLI_6Y",
        "colab_type": "code",
        "colab": {}
      },
      "cell_type": "code",
      "source": [
        "#preprocess\n",
        "X_train = X_train.astype('float32')\n",
        "X_test = X_test.astype('float32')"
      ],
      "execution_count": 0,
      "outputs": []
    },
    {
      "metadata": {
        "id": "wgWQ2HrDKMyY",
        "colab_type": "code",
        "colab": {}
      },
      "cell_type": "code",
      "source": [
        "y_train = keras.utils.to_categorical(y_train, 10)\n",
        "y_test = keras.utils.to_categorical(y_test, 10)"
      ],
      "execution_count": 0,
      "outputs": []
    },
    {
      "metadata": {
        "id": "10IRCZtNKXFO",
        "colab_type": "text"
      },
      "cell_type": "markdown",
      "source": [
        "### Bottleneck feature creation"
      ]
    },
    {
      "metadata": {
        "id": "I0sV-bo5KQwR",
        "colab_type": "code",
        "colab": {}
      },
      "cell_type": "code",
      "source": [
        "model = VGG16(include_top=False, input_shape=X_train.shape[1:], classes=num_classes, weights='imagenet')"
      ],
      "execution_count": 0,
      "outputs": []
    },
    {
      "metadata": {
        "id": "_eQ_lScbKbjm",
        "colab_type": "code",
        "colab": {
          "base_uri": "https://localhost:8080/",
          "height": 35
        },
        "outputId": "5027dd1a-6d2c-442e-9494-63064fbc2307"
      },
      "cell_type": "code",
      "source": [
        "bottleneck_features_train = model.predict(X_train, verbose=1, batch_size=batch_size)"
      ],
      "execution_count": 11,
      "outputs": [
        {
          "output_type": "stream",
          "text": [
            "10000/10000 [==============================] - 47s 5ms/step\n"
          ],
          "name": "stdout"
        }
      ]
    },
    {
      "metadata": {
        "id": "yL1KjS_5K_-B",
        "colab_type": "code",
        "colab": {}
      },
      "cell_type": "code",
      "source": [
        "np.save(open(save_dir+'/bottleneck_features_train.npy', 'w'), bottleneck_features_train)"
      ],
      "execution_count": 0,
      "outputs": []
    },
    {
      "metadata": {
        "id": "4cEvIze4LbHx",
        "colab_type": "code",
        "colab": {}
      },
      "cell_type": "code",
      "source": [
        "from google.colab import files \n",
        "files.download(save_dir+'/bottleneck_features_train.npy')"
      ],
      "execution_count": 0,
      "outputs": []
    },
    {
      "metadata": {
        "id": "sPWJvNcdLmCN",
        "colab_type": "code",
        "colab": {
          "base_uri": "https://localhost:8080/",
          "height": 35
        },
        "outputId": "4245ae31-0630-4898-9b35-3523a9a3a328"
      },
      "cell_type": "code",
      "source": [
        "bottleneck_features_val = model.predict(X_test, verbose=1, batch_size=batch_size)"
      ],
      "execution_count": 13,
      "outputs": [
        {
          "output_type": "stream",
          "text": [
            "2000/2000 [==============================] - 9s 4ms/step\n"
          ],
          "name": "stdout"
        }
      ]
    },
    {
      "metadata": {
        "id": "kSqiKdFHL4mO",
        "colab_type": "code",
        "colab": {}
      },
      "cell_type": "code",
      "source": [
        "np.save(open(save_dir+'/bottleneck_features_val.npy', 'w'), bottleneck_features_val)"
      ],
      "execution_count": 0,
      "outputs": []
    },
    {
      "metadata": {
        "id": "o78wEvyJL-oD",
        "colab_type": "code",
        "colab": {}
      },
      "cell_type": "code",
      "source": [
        "from google.colab import files \n",
        "files.download(save_dir+'/bottleneck_features_val.npy')"
      ],
      "execution_count": 0,
      "outputs": []
    },
    {
      "metadata": {
        "id": "R_mDI0u-MAZP",
        "colab_type": "code",
        "colab": {}
      },
      "cell_type": "code",
      "source": [
        "train_data = np.load(open(save_dir+'/bottleneck_features_train.npy'))\n",
        "# the features were saved in order, so recreating the labels is easy\n",
        "train_labels = y_train\n"
      ],
      "execution_count": 0,
      "outputs": []
    },
    {
      "metadata": {
        "id": "yAuxPp49NYA5",
        "colab_type": "code",
        "colab": {
          "base_uri": "https://localhost:8080/",
          "height": 35
        },
        "outputId": "8fafca01-c8c1-430f-d4ee-8a1ea5ef80f5"
      },
      "cell_type": "code",
      "source": [
        "train_data.shape"
      ],
      "execution_count": 16,
      "outputs": [
        {
          "output_type": "execute_result",
          "data": {
            "text/plain": [
              "(10000, 4, 4, 512)"
            ]
          },
          "metadata": {
            "tags": []
          },
          "execution_count": 16
        }
      ]
    },
    {
      "metadata": {
        "id": "qKjknFzgNOeG",
        "colab_type": "code",
        "colab": {}
      },
      "cell_type": "code",
      "source": [
        "validation_data = np.load(open(save_dir+'/bottleneck_features_val.npy'))\n",
        "validation_labels = y_test"
      ],
      "execution_count": 0,
      "outputs": []
    },
    {
      "metadata": {
        "id": "HG5f5zaDNRK7",
        "colab_type": "code",
        "colab": {}
      },
      "cell_type": "code",
      "source": [
        "model = Sequential()\n",
        "model.add(Flatten(input_shape=train_data.shape[1:]))\n",
        "model.add(Dense(256, activation='relu'))\n",
        "model.add(Dropout(0.5))\n",
        "model.add(Dense(num_classes, activation='softmax'))\n",
        "\n",
        "model.compile(optimizer='rmsprop',\n",
        "              loss='categorical_crossentropy',\n",
        "              metrics=['accuracy'])"
      ],
      "execution_count": 0,
      "outputs": []
    },
    {
      "metadata": {
        "id": "zm3M6rlINTxf",
        "colab_type": "code",
        "colab": {
          "base_uri": "https://localhost:8080/",
          "height": 3766
        },
        "outputId": "23c021b9-4ad8-4afa-d27f-874a2c3bb3ae"
      },
      "cell_type": "code",
      "source": [
        "model.fit(train_data, train_labels,\n",
        "          epochs=100,\n",
        "          batch_size=batch_size,\n",
        "          validation_data=(validation_data, validation_labels))"
      ],
      "execution_count": 19,
      "outputs": [
        {
          "output_type": "stream",
          "text": [
            "Train on 10000 samples, validate on 2000 samples\n",
            "Epoch 1/100\n",
            "10000/10000 [==============================] - 4s 404us/step - loss: 1.7912 - acc: 0.3663 - val_loss: 1.2650 - val_acc: 0.5725\n",
            "Epoch 2/100\n",
            "10000/10000 [==============================] - 3s 348us/step - loss: 1.3942 - acc: 0.4964 - val_loss: 1.1620 - val_acc: 0.6085\n",
            "Epoch 3/100\n",
            "10000/10000 [==============================] - 4s 350us/step - loss: 1.2530 - acc: 0.5532 - val_loss: 1.0705 - val_acc: 0.6225\n",
            "Epoch 4/100\n",
            "10000/10000 [==============================] - 3s 349us/step - loss: 1.1719 - acc: 0.5848 - val_loss: 1.0258 - val_acc: 0.6385\n",
            "Epoch 5/100\n",
            " 3200/10000 [========>.....................] - ETA: 2s - loss: 1.1447 - acc: 0.5903"
          ],
          "name": "stdout"
        },
        {
          "output_type": "stream",
          "text": [
            "10000/10000 [==============================] - 4s 352us/step - loss: 1.1235 - acc: 0.5976 - val_loss: 1.0349 - val_acc: 0.6340\n",
            "Epoch 6/100\n",
            "10000/10000 [==============================] - 4s 352us/step - loss: 1.0828 - acc: 0.6193 - val_loss: 1.1356 - val_acc: 0.6190\n",
            "Epoch 7/100\n",
            "10000/10000 [==============================] - 4s 357us/step - loss: 1.0418 - acc: 0.6460 - val_loss: 0.9836 - val_acc: 0.6555\n",
            "Epoch 8/100\n",
            "10000/10000 [==============================] - 3s 347us/step - loss: 0.9980 - acc: 0.6506 - val_loss: 0.9069 - val_acc: 0.6965\n",
            "Epoch 9/100\n",
            " 7744/10000 [======================>.......] - ETA: 0s - loss: 0.9667 - acc: 0.6626"
          ],
          "name": "stdout"
        },
        {
          "output_type": "stream",
          "text": [
            "10000/10000 [==============================] - 4s 353us/step - loss: 0.9722 - acc: 0.6609 - val_loss: 0.9050 - val_acc: 0.7090\n",
            "Epoch 10/100\n",
            "10000/10000 [==============================] - 4s 352us/step - loss: 0.9386 - acc: 0.6719 - val_loss: 0.9997 - val_acc: 0.6695\n",
            "Epoch 11/100\n",
            "10000/10000 [==============================] - 4s 352us/step - loss: 0.9152 - acc: 0.6813 - val_loss: 0.8994 - val_acc: 0.7145\n",
            "Epoch 12/100\n",
            "10000/10000 [==============================] - 3s 350us/step - loss: 0.8898 - acc: 0.6937 - val_loss: 1.1068 - val_acc: 0.6695\n",
            "Epoch 13/100\n",
            " 8064/10000 [=======================>......] - ETA: 0s - loss: 0.8906 - acc: 0.6906"
          ],
          "name": "stdout"
        },
        {
          "output_type": "stream",
          "text": [
            "10000/10000 [==============================] - 4s 350us/step - loss: 0.8881 - acc: 0.6904 - val_loss: 0.9844 - val_acc: 0.7060\n",
            "Epoch 14/100\n",
            "10000/10000 [==============================] - 4s 353us/step - loss: 0.8720 - acc: 0.7012 - val_loss: 0.9704 - val_acc: 0.6875\n",
            "Epoch 15/100\n",
            "10000/10000 [==============================] - 4s 361us/step - loss: 0.8464 - acc: 0.7084 - val_loss: 0.9344 - val_acc: 0.7045\n",
            "Epoch 16/100\n",
            "10000/10000 [==============================] - 4s 354us/step - loss: 0.8282 - acc: 0.7177 - val_loss: 0.9802 - val_acc: 0.7115\n",
            "Epoch 17/100\n",
            " 7968/10000 [======================>.......] - ETA: 0s - loss: 0.8227 - acc: 0.7175"
          ],
          "name": "stdout"
        },
        {
          "output_type": "stream",
          "text": [
            "10000/10000 [==============================] - 4s 351us/step - loss: 0.8279 - acc: 0.7160 - val_loss: 1.0728 - val_acc: 0.6670\n",
            "Epoch 18/100\n",
            "10000/10000 [==============================] - 4s 350us/step - loss: 0.8009 - acc: 0.7265 - val_loss: 1.0736 - val_acc: 0.6715\n",
            "Epoch 19/100\n",
            "10000/10000 [==============================] - 4s 352us/step - loss: 0.8006 - acc: 0.7230 - val_loss: 0.9857 - val_acc: 0.7035\n",
            "Epoch 20/100\n",
            "10000/10000 [==============================] - 3s 348us/step - loss: 0.7916 - acc: 0.7274 - val_loss: 0.9707 - val_acc: 0.7175\n",
            "Epoch 21/100\n",
            " 8480/10000 [========================>.....] - ETA: 0s - loss: 0.7697 - acc: 0.7328"
          ],
          "name": "stdout"
        },
        {
          "output_type": "stream",
          "text": [
            "10000/10000 [==============================] - 3s 349us/step - loss: 0.7753 - acc: 0.7319 - val_loss: 0.9730 - val_acc: 0.6960\n",
            "Epoch 22/100\n",
            "10000/10000 [==============================] - 4s 350us/step - loss: 0.7544 - acc: 0.7373 - val_loss: 1.0164 - val_acc: 0.7125\n",
            "Epoch 23/100\n",
            "10000/10000 [==============================] - 3s 349us/step - loss: 0.7454 - acc: 0.7418 - val_loss: 1.0093 - val_acc: 0.7115\n",
            "Epoch 24/100\n",
            "10000/10000 [==============================] - 4s 353us/step - loss: 0.7270 - acc: 0.7507 - val_loss: 1.0248 - val_acc: 0.7025\n",
            "Epoch 25/100\n",
            " 8512/10000 [========================>.....] - ETA: 0s - loss: 0.7131 - acc: 0.7481"
          ],
          "name": "stdout"
        },
        {
          "output_type": "stream",
          "text": [
            "10000/10000 [==============================] - 3s 349us/step - loss: 0.7166 - acc: 0.7463 - val_loss: 1.0297 - val_acc: 0.6945\n",
            "Epoch 26/100\n",
            "10000/10000 [==============================] - 4s 355us/step - loss: 0.7181 - acc: 0.7520 - val_loss: 1.0485 - val_acc: 0.6965\n",
            "Epoch 27/100\n",
            "10000/10000 [==============================] - 4s 351us/step - loss: 0.7330 - acc: 0.7516 - val_loss: 1.1737 - val_acc: 0.6875\n",
            "Epoch 28/100\n",
            "10000/10000 [==============================] - 3s 348us/step - loss: 0.7212 - acc: 0.7509 - val_loss: 1.1005 - val_acc: 0.7060\n",
            "Epoch 29/100\n",
            " 8480/10000 [========================>.....] - ETA: 0s - loss: 0.7263 - acc: 0.7485"
          ],
          "name": "stdout"
        },
        {
          "output_type": "stream",
          "text": [
            "10000/10000 [==============================] - 4s 351us/step - loss: 0.7259 - acc: 0.7489 - val_loss: 1.2899 - val_acc: 0.6925\n",
            "Epoch 30/100\n",
            "10000/10000 [==============================] - 3s 349us/step - loss: 0.7301 - acc: 0.7545 - val_loss: 1.0601 - val_acc: 0.7135\n",
            "Epoch 31/100\n",
            "10000/10000 [==============================] - 3s 349us/step - loss: 0.7017 - acc: 0.7590 - val_loss: 1.0609 - val_acc: 0.6890\n",
            "Epoch 32/100\n",
            "10000/10000 [==============================] - 4s 352us/step - loss: 0.6914 - acc: 0.7657 - val_loss: 1.1795 - val_acc: 0.7170\n",
            "Epoch 33/100\n",
            " 8224/10000 [=======================>......] - ETA: 0s - loss: 0.6958 - acc: 0.7607"
          ],
          "name": "stdout"
        },
        {
          "output_type": "stream",
          "text": [
            "10000/10000 [==============================] - 4s 351us/step - loss: 0.6979 - acc: 0.7576 - val_loss: 1.2577 - val_acc: 0.6760\n",
            "Epoch 34/100\n",
            "10000/10000 [==============================] - 3s 349us/step - loss: 0.6963 - acc: 0.7668 - val_loss: 1.1996 - val_acc: 0.6990\n",
            "Epoch 35/100\n",
            "10000/10000 [==============================] - 4s 352us/step - loss: 0.6801 - acc: 0.7662 - val_loss: 1.2475 - val_acc: 0.7050\n",
            "Epoch 36/100\n",
            "10000/10000 [==============================] - 3s 346us/step - loss: 0.6818 - acc: 0.7717 - val_loss: 1.2494 - val_acc: 0.6930\n",
            "Epoch 37/100\n",
            " 8192/10000 [=======================>......] - ETA: 0s - loss: 0.6685 - acc: 0.7732"
          ],
          "name": "stdout"
        },
        {
          "output_type": "stream",
          "text": [
            "10000/10000 [==============================] - 3s 349us/step - loss: 0.6678 - acc: 0.7742 - val_loss: 1.2018 - val_acc: 0.7025\n",
            "Epoch 38/100\n",
            "10000/10000 [==============================] - 4s 350us/step - loss: 0.6784 - acc: 0.7679 - val_loss: 1.1931 - val_acc: 0.6875\n",
            "Epoch 39/100\n",
            "10000/10000 [==============================] - 3s 350us/step - loss: 0.6828 - acc: 0.7693 - val_loss: 1.1411 - val_acc: 0.7160\n",
            "Epoch 40/100\n",
            "10000/10000 [==============================] - 3s 348us/step - loss: 0.6664 - acc: 0.7762 - val_loss: 1.1655 - val_acc: 0.7240\n",
            "Epoch 41/100\n",
            " 8256/10000 [=======================>......] - ETA: 0s - loss: 0.6474 - acc: 0.7777"
          ],
          "name": "stdout"
        },
        {
          "output_type": "stream",
          "text": [
            "10000/10000 [==============================] - 4s 350us/step - loss: 0.6454 - acc: 0.7800 - val_loss: 1.2147 - val_acc: 0.7065\n",
            "Epoch 42/100\n",
            "10000/10000 [==============================] - 4s 351us/step - loss: 0.6617 - acc: 0.7795 - val_loss: 1.2554 - val_acc: 0.7055\n",
            "Epoch 43/100\n",
            "10000/10000 [==============================] - 4s 350us/step - loss: 0.6594 - acc: 0.7740 - val_loss: 1.2763 - val_acc: 0.7075\n",
            "Epoch 44/100\n",
            "10000/10000 [==============================] - 3s 348us/step - loss: 0.6596 - acc: 0.7787 - val_loss: 1.4366 - val_acc: 0.6870\n",
            "Epoch 45/100\n",
            " 8256/10000 [=======================>......] - ETA: 0s - loss: 0.6493 - acc: 0.7794"
          ],
          "name": "stdout"
        },
        {
          "output_type": "stream",
          "text": [
            "10000/10000 [==============================] - 4s 354us/step - loss: 0.6541 - acc: 0.7793 - val_loss: 1.3897 - val_acc: 0.6900\n",
            "Epoch 46/100\n",
            "10000/10000 [==============================] - 4s 351us/step - loss: 0.6449 - acc: 0.7848 - val_loss: 1.2164 - val_acc: 0.7125\n",
            "Epoch 47/100\n",
            "10000/10000 [==============================] - 3s 348us/step - loss: 0.6535 - acc: 0.7848 - val_loss: 1.3152 - val_acc: 0.7050\n",
            "Epoch 48/100\n",
            "10000/10000 [==============================] - 3s 349us/step - loss: 0.6270 - acc: 0.7840 - val_loss: 1.2441 - val_acc: 0.7050\n",
            "Epoch 49/100\n",
            " 8608/10000 [========================>.....] - ETA: 0s - loss: 0.6392 - acc: 0.7903"
          ],
          "name": "stdout"
        },
        {
          "output_type": "stream",
          "text": [
            "10000/10000 [==============================] - 3s 349us/step - loss: 0.6446 - acc: 0.7899 - val_loss: 1.2555 - val_acc: 0.6950\n",
            "Epoch 50/100\n",
            "10000/10000 [==============================] - 3s 344us/step - loss: 0.6374 - acc: 0.7854 - val_loss: 1.2381 - val_acc: 0.7085\n",
            "Epoch 51/100\n",
            "10000/10000 [==============================] - 3s 344us/step - loss: 0.6418 - acc: 0.7870 - val_loss: 1.3141 - val_acc: 0.6980\n",
            "Epoch 52/100\n",
            "10000/10000 [==============================] - 3s 349us/step - loss: 0.6400 - acc: 0.7881 - val_loss: 1.3959 - val_acc: 0.6965\n",
            "Epoch 53/100\n",
            " 8704/10000 [=========================>....] - ETA: 0s - loss: 0.6269 - acc: 0.7894"
          ],
          "name": "stdout"
        },
        {
          "output_type": "stream",
          "text": [
            "10000/10000 [==============================] - 3s 349us/step - loss: 0.6288 - acc: 0.7880 - val_loss: 1.4494 - val_acc: 0.6945\n",
            "Epoch 54/100\n",
            "10000/10000 [==============================] - 4s 350us/step - loss: 0.6448 - acc: 0.7894 - val_loss: 1.2941 - val_acc: 0.7075\n",
            "Epoch 55/100\n",
            "10000/10000 [==============================] - 3s 348us/step - loss: 0.6393 - acc: 0.7865 - val_loss: 1.3475 - val_acc: 0.7020\n",
            "Epoch 56/100\n",
            "10000/10000 [==============================] - 3s 350us/step - loss: 0.6382 - acc: 0.7924 - val_loss: 1.3873 - val_acc: 0.6890\n",
            "Epoch 57/100\n",
            " 8608/10000 [========================>.....] - ETA: 0s - loss: 0.6151 - acc: 0.7930"
          ],
          "name": "stdout"
        },
        {
          "output_type": "stream",
          "text": [
            "10000/10000 [==============================] - 4s 353us/step - loss: 0.6175 - acc: 0.7914 - val_loss: 1.4321 - val_acc: 0.7025\n",
            "Epoch 58/100\n",
            "10000/10000 [==============================] - 4s 351us/step - loss: 0.6292 - acc: 0.7914 - val_loss: 1.3777 - val_acc: 0.6950\n",
            "Epoch 59/100\n",
            "10000/10000 [==============================] - 3s 347us/step - loss: 0.6332 - acc: 0.7879 - val_loss: 1.5262 - val_acc: 0.6845\n",
            "Epoch 60/100\n",
            "10000/10000 [==============================] - 3s 347us/step - loss: 0.6494 - acc: 0.7902 - val_loss: 1.4447 - val_acc: 0.7165\n",
            "Epoch 61/100\n",
            " 8608/10000 [========================>.....] - ETA: 0s - loss: 0.6337 - acc: 0.7983"
          ],
          "name": "stdout"
        },
        {
          "output_type": "stream",
          "text": [
            "10000/10000 [==============================] - 3s 346us/step - loss: 0.6357 - acc: 0.7969 - val_loss: 1.5093 - val_acc: 0.7060\n",
            "Epoch 62/100\n",
            "10000/10000 [==============================] - 3s 349us/step - loss: 0.6426 - acc: 0.7955 - val_loss: 1.5725 - val_acc: 0.6790\n",
            "Epoch 63/100\n",
            "10000/10000 [==============================] - 4s 352us/step - loss: 0.6210 - acc: 0.7950 - val_loss: 1.4321 - val_acc: 0.7070\n",
            "Epoch 64/100\n",
            "10000/10000 [==============================] - 3s 348us/step - loss: 0.6186 - acc: 0.7965 - val_loss: 1.4561 - val_acc: 0.7090\n",
            "Epoch 65/100\n",
            " 8192/10000 [=======================>......] - ETA: 0s - loss: 0.6330 - acc: 0.7943"
          ],
          "name": "stdout"
        },
        {
          "output_type": "stream",
          "text": [
            "10000/10000 [==============================] - 3s 348us/step - loss: 0.6379 - acc: 0.7936 - val_loss: 1.4227 - val_acc: 0.7115\n",
            "Epoch 66/100\n",
            "10000/10000 [==============================] - 3s 350us/step - loss: 0.6339 - acc: 0.7976 - val_loss: 1.5159 - val_acc: 0.7255\n",
            "Epoch 67/100\n",
            "10000/10000 [==============================] - 4s 353us/step - loss: 0.6412 - acc: 0.7971 - val_loss: 1.3564 - val_acc: 0.7070\n",
            "Epoch 68/100\n",
            "10000/10000 [==============================] - 3s 347us/step - loss: 0.6373 - acc: 0.7988 - val_loss: 1.6335 - val_acc: 0.6825\n",
            "Epoch 69/100\n",
            " 8544/10000 [========================>.....] - ETA: 0s - loss: 0.6237 - acc: 0.7952"
          ],
          "name": "stdout"
        },
        {
          "output_type": "stream",
          "text": [
            "10000/10000 [==============================] - 3s 347us/step - loss: 0.6218 - acc: 0.7983 - val_loss: 1.4510 - val_acc: 0.7115\n",
            "Epoch 70/100\n",
            "10000/10000 [==============================] - 3s 349us/step - loss: 0.6431 - acc: 0.8020 - val_loss: 1.4898 - val_acc: 0.6870\n",
            "Epoch 71/100\n",
            "10000/10000 [==============================] - 4s 351us/step - loss: 0.6315 - acc: 0.8010 - val_loss: 1.4062 - val_acc: 0.7135\n",
            "Epoch 72/100\n",
            "10000/10000 [==============================] - 3s 347us/step - loss: 0.5981 - acc: 0.8060 - val_loss: 1.4899 - val_acc: 0.7045\n",
            "Epoch 73/100\n",
            " 8352/10000 [========================>.....] - ETA: 0s - loss: 0.6190 - acc: 0.7983"
          ],
          "name": "stdout"
        },
        {
          "output_type": "stream",
          "text": [
            "10000/10000 [==============================] - 3s 346us/step - loss: 0.6178 - acc: 0.8023 - val_loss: 1.6405 - val_acc: 0.7010\n",
            "Epoch 74/100\n",
            "10000/10000 [==============================] - 3s 349us/step - loss: 0.6001 - acc: 0.8061 - val_loss: 1.5688 - val_acc: 0.7025\n",
            "Epoch 75/100\n",
            "10000/10000 [==============================] - 3s 347us/step - loss: 0.6149 - acc: 0.8006 - val_loss: 1.5263 - val_acc: 0.7135\n",
            "Epoch 76/100\n",
            "10000/10000 [==============================] - 3s 346us/step - loss: 0.6459 - acc: 0.7962 - val_loss: 1.6142 - val_acc: 0.6820\n",
            "Epoch 77/100\n",
            " 8576/10000 [========================>.....] - ETA: 0s - loss: 0.6211 - acc: 0.7949"
          ],
          "name": "stdout"
        },
        {
          "output_type": "stream",
          "text": [
            "10000/10000 [==============================] - 4s 351us/step - loss: 0.6242 - acc: 0.7951 - val_loss: 1.4410 - val_acc: 0.6940\n",
            "Epoch 78/100\n",
            "10000/10000 [==============================] - 3s 345us/step - loss: 0.6182 - acc: 0.8022 - val_loss: 1.5908 - val_acc: 0.6915\n",
            "Epoch 79/100\n",
            "10000/10000 [==============================] - 3s 350us/step - loss: 0.6126 - acc: 0.8039 - val_loss: 1.5235 - val_acc: 0.6990\n",
            "Epoch 80/100\n",
            "10000/10000 [==============================] - 3s 348us/step - loss: 0.6037 - acc: 0.8031 - val_loss: 1.6385 - val_acc: 0.6955\n",
            "Epoch 81/100\n",
            " 8544/10000 [========================>.....] - ETA: 0s - loss: 0.6122 - acc: 0.8066"
          ],
          "name": "stdout"
        },
        {
          "output_type": "stream",
          "text": [
            "10000/10000 [==============================] - 3s 349us/step - loss: 0.6063 - acc: 0.8050 - val_loss: 1.5544 - val_acc: 0.6970\n",
            "Epoch 82/100\n",
            "10000/10000 [==============================] - 4s 352us/step - loss: 0.6271 - acc: 0.8027 - val_loss: 1.6726 - val_acc: 0.6940\n",
            "Epoch 83/100\n",
            "10000/10000 [==============================] - 4s 350us/step - loss: 0.6239 - acc: 0.8046 - val_loss: 1.5835 - val_acc: 0.6865\n",
            "Epoch 84/100\n",
            "10000/10000 [==============================] - 4s 352us/step - loss: 0.6176 - acc: 0.8086 - val_loss: 1.6872 - val_acc: 0.7050\n",
            "Epoch 85/100\n",
            " 8416/10000 [========================>.....] - ETA: 0s - loss: 0.6234 - acc: 0.8058"
          ],
          "name": "stdout"
        },
        {
          "output_type": "stream",
          "text": [
            "10000/10000 [==============================] - 3s 348us/step - loss: 0.6317 - acc: 0.8043 - val_loss: 1.6263 - val_acc: 0.6885\n",
            "Epoch 86/100\n",
            "10000/10000 [==============================] - 3s 349us/step - loss: 0.6412 - acc: 0.8042 - val_loss: 1.5858 - val_acc: 0.6980\n",
            "Epoch 87/100\n",
            "10000/10000 [==============================] - 3s 347us/step - loss: 0.6354 - acc: 0.8022 - val_loss: 1.7601 - val_acc: 0.6890\n",
            "Epoch 88/100\n",
            "10000/10000 [==============================] - 4s 352us/step - loss: 0.6034 - acc: 0.8154 - val_loss: 1.6376 - val_acc: 0.7120\n",
            "Epoch 89/100\n",
            " 8384/10000 [========================>.....] - ETA: 0s - loss: 0.6052 - acc: 0.8099"
          ],
          "name": "stdout"
        },
        {
          "output_type": "stream",
          "text": [
            "10000/10000 [==============================] - 3s 348us/step - loss: 0.6133 - acc: 0.8062 - val_loss: 1.9031 - val_acc: 0.6860\n",
            "Epoch 90/100\n",
            "10000/10000 [==============================] - 3s 346us/step - loss: 0.6193 - acc: 0.8111 - val_loss: 1.6417 - val_acc: 0.6925\n",
            "Epoch 91/100\n",
            "10000/10000 [==============================] - 4s 352us/step - loss: 0.6136 - acc: 0.8090 - val_loss: 1.6170 - val_acc: 0.6930\n",
            "Epoch 92/100\n",
            "10000/10000 [==============================] - 3s 348us/step - loss: 0.6289 - acc: 0.8034 - val_loss: 1.7133 - val_acc: 0.7070\n",
            "Epoch 93/100\n",
            " 8576/10000 [========================>.....] - ETA: 0s - loss: 0.6095 - acc: 0.8094"
          ],
          "name": "stdout"
        },
        {
          "output_type": "stream",
          "text": [
            "10000/10000 [==============================] - 4s 350us/step - loss: 0.6120 - acc: 0.8078 - val_loss: 1.7146 - val_acc: 0.6990\n",
            "Epoch 94/100\n",
            "10000/10000 [==============================] - 4s 351us/step - loss: 0.6212 - acc: 0.8095 - val_loss: 1.6811 - val_acc: 0.6945\n",
            "Epoch 95/100\n",
            "10000/10000 [==============================] - 3s 347us/step - loss: 0.6152 - acc: 0.8101 - val_loss: 1.6652 - val_acc: 0.6935\n",
            "Epoch 96/100\n",
            "10000/10000 [==============================] - 3s 347us/step - loss: 0.6394 - acc: 0.8015 - val_loss: 1.6913 - val_acc: 0.7010\n",
            "Epoch 97/100\n",
            " 8608/10000 [========================>.....] - ETA: 0s - loss: 0.6258 - acc: 0.8072"
          ],
          "name": "stdout"
        },
        {
          "output_type": "stream",
          "text": [
            "10000/10000 [==============================] - 3s 347us/step - loss: 0.6159 - acc: 0.8091 - val_loss: 1.7389 - val_acc: 0.7050\n",
            "Epoch 98/100\n",
            "10000/10000 [==============================] - 3s 349us/step - loss: 0.6601 - acc: 0.8027 - val_loss: 1.7682 - val_acc: 0.6900\n",
            "Epoch 99/100\n",
            "10000/10000 [==============================] - 4s 358us/step - loss: 0.6484 - acc: 0.8064 - val_loss: 1.6784 - val_acc: 0.6980\n",
            "Epoch 100/100\n",
            "10000/10000 [==============================] - 4s 356us/step - loss: 0.6115 - acc: 0.8075 - val_loss: 1.6642 - val_acc: 0.6985\n"
          ],
          "name": "stdout"
        },
        {
          "output_type": "execute_result",
          "data": {
            "text/plain": [
              "<keras.callbacks.History at 0x7f3ab3874650>"
            ]
          },
          "metadata": {
            "tags": []
          },
          "execution_count": 19
        }
      ]
    },
    {
      "metadata": {
        "id": "yVZnY4S7NArK",
        "colab_type": "code",
        "colab": {}
      },
      "cell_type": "code",
      "source": [
        "model.save_weights(save_dir+'/bottleneck_fc_model.h5')"
      ],
      "execution_count": 0,
      "outputs": []
    }
  ]
}